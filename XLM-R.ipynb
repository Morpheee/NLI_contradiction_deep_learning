{
 "cells": [
  {
   "cell_type": "markdown",
   "source": [
    "source link : https://affine.medium.com/natural-language-inferencing-nli-task-demonstration-using-kaggle-dataset-34cbce0f0852"
   ],
   "metadata": {
    "collapsed": false,
    "pycharm": {
     "name": "#%% md\n"
    }
   }
  },
  {
   "cell_type": "code",
   "execution_count": 46,
   "metadata": {
    "collapsed": true
   },
   "outputs": [],
   "source": [
    "from transformers import AutoModelForSequenceClassification, AutoTokenizer\n",
    "import pandas as pd\n",
    "import matplotlib.pyplot as plt\n",
    "import numpy as np\n",
    "import seaborn as sns\n",
    "from sklearn.metrics import classification_report\n",
    "import torch"
   ]
  },
  {
   "cell_type": "code",
   "execution_count": 47,
   "outputs": [
    {
     "name": "stderr",
     "output_type": "stream",
     "text": [
      "Some weights of the model checkpoint at joeddav/xlm-roberta-large-xnli were not used when initializing XLMRobertaForSequenceClassification: ['roberta.pooler.dense.bias', 'roberta.pooler.dense.weight']\n",
      "- This IS expected if you are initializing XLMRobertaForSequenceClassification from the checkpoint of a model trained on another task or with another architecture (e.g. initializing a BertForSequenceClassification model from a BertForPreTraining model).\n",
      "- This IS NOT expected if you are initializing XLMRobertaForSequenceClassification from the checkpoint of a model that you expect to be exactly identical (initializing a BertForSequenceClassification model from a BertForSequenceClassification model).\n"
     ]
    }
   ],
   "source": [
    "xlmr = AutoModelForSequenceClassification.from_pretrained('joeddav/xlm-roberta-large-xnli')"
   ],
   "metadata": {
    "collapsed": false,
    "pycharm": {
     "name": "#%%\n"
    }
   }
  },
  {
   "cell_type": "code",
   "execution_count": 48,
   "outputs": [],
   "source": [
    "tokenizer = AutoTokenizer.from_pretrained('joeddav/xlm-roberta-large-xnli')"
   ],
   "metadata": {
    "collapsed": false,
    "pycharm": {
     "name": "#%%\n"
    }
   }
  },
  {
   "cell_type": "code",
   "execution_count": 49,
   "outputs": [
    {
     "data": {
      "text/plain": "           id                                            premise  \\\n0  5130fd2cb5  and these comments were considered in formulat...   \n1  5b72532a0b  These are issues that we wrestle with in pract...   \n2  3931fbe82a  Des petites choses comme celles-là font une di...   \n\n                                          hypothesis lang_abv language  label  \n0  The rules developed in the interim were put to...       en  English      0  \n1  Practice groups are not permitted to work on t...       en  English      2  \n2              J'essayais d'accomplir quelque chose.       fr   French      0  ",
      "text/html": "<div>\n<style scoped>\n    .dataframe tbody tr th:only-of-type {\n        vertical-align: middle;\n    }\n\n    .dataframe tbody tr th {\n        vertical-align: top;\n    }\n\n    .dataframe thead th {\n        text-align: right;\n    }\n</style>\n<table border=\"1\" class=\"dataframe\">\n  <thead>\n    <tr style=\"text-align: right;\">\n      <th></th>\n      <th>id</th>\n      <th>premise</th>\n      <th>hypothesis</th>\n      <th>lang_abv</th>\n      <th>language</th>\n      <th>label</th>\n    </tr>\n  </thead>\n  <tbody>\n    <tr>\n      <th>0</th>\n      <td>5130fd2cb5</td>\n      <td>and these comments were considered in formulat...</td>\n      <td>The rules developed in the interim were put to...</td>\n      <td>en</td>\n      <td>English</td>\n      <td>0</td>\n    </tr>\n    <tr>\n      <th>1</th>\n      <td>5b72532a0b</td>\n      <td>These are issues that we wrestle with in pract...</td>\n      <td>Practice groups are not permitted to work on t...</td>\n      <td>en</td>\n      <td>English</td>\n      <td>2</td>\n    </tr>\n    <tr>\n      <th>2</th>\n      <td>3931fbe82a</td>\n      <td>Des petites choses comme celles-là font une di...</td>\n      <td>J'essayais d'accomplir quelque chose.</td>\n      <td>fr</td>\n      <td>French</td>\n      <td>0</td>\n    </tr>\n  </tbody>\n</table>\n</div>"
     },
     "execution_count": 49,
     "metadata": {},
     "output_type": "execute_result"
    }
   ],
   "source": [
    "train_data = pd.read_csv(\"../data/train.csv\")\n",
    "train_data.head(3)"
   ],
   "metadata": {
    "collapsed": false,
    "pycharm": {
     "name": "#%%\n"
    }
   }
  },
  {
   "cell_type": "code",
   "execution_count": 50,
   "outputs": [
    {
     "data": {
      "text/plain": "           id                                            premise  \\\n0  c6d58c3f69  بکس، کیسی، راہیل، یسعیاہ، کیلی، کیلی، اور کولم...   \n1  cefcc82292                             هذا هو ما تم نصحنا به.   \n2  e98005252c  et cela est en grande partie dû au fait que le...   \n\n                                          hypothesis lang_abv language  \n0  کیسی کے لئے کوئی یادگار نہیں ہوگا, کولمین ہائی...       ur     Urdu  \n1  عندما يتم إخبارهم بما يجب عليهم فعله ، فشلت ال...       ar   Arabic  \n2                             Les mères se droguent.       fr   French  ",
      "text/html": "<div>\n<style scoped>\n    .dataframe tbody tr th:only-of-type {\n        vertical-align: middle;\n    }\n\n    .dataframe tbody tr th {\n        vertical-align: top;\n    }\n\n    .dataframe thead th {\n        text-align: right;\n    }\n</style>\n<table border=\"1\" class=\"dataframe\">\n  <thead>\n    <tr style=\"text-align: right;\">\n      <th></th>\n      <th>id</th>\n      <th>premise</th>\n      <th>hypothesis</th>\n      <th>lang_abv</th>\n      <th>language</th>\n    </tr>\n  </thead>\n  <tbody>\n    <tr>\n      <th>0</th>\n      <td>c6d58c3f69</td>\n      <td>بکس، کیسی، راہیل، یسعیاہ، کیلی، کیلی، اور کولم...</td>\n      <td>کیسی کے لئے کوئی یادگار نہیں ہوگا, کولمین ہائی...</td>\n      <td>ur</td>\n      <td>Urdu</td>\n    </tr>\n    <tr>\n      <th>1</th>\n      <td>cefcc82292</td>\n      <td>هذا هو ما تم نصحنا به.</td>\n      <td>عندما يتم إخبارهم بما يجب عليهم فعله ، فشلت ال...</td>\n      <td>ar</td>\n      <td>Arabic</td>\n    </tr>\n    <tr>\n      <th>2</th>\n      <td>e98005252c</td>\n      <td>et cela est en grande partie dû au fait que le...</td>\n      <td>Les mères se droguent.</td>\n      <td>fr</td>\n      <td>French</td>\n    </tr>\n  </tbody>\n</table>\n</div>"
     },
     "execution_count": 50,
     "metadata": {},
     "output_type": "execute_result"
    }
   ],
   "source": [
    "test_data = pd.read_csv(\"../data/test.csv\")\n",
    "test_data.head(3)"
   ],
   "metadata": {
    "collapsed": false,
    "pycharm": {
     "name": "#%%\n"
    }
   }
  },
  {
   "cell_type": "markdown",
   "source": [
    "# match model labels and dataset labels"
   ],
   "metadata": {
    "collapsed": false,
    "pycharm": {
     "name": "#%% md\n"
    }
   }
  },
  {
   "cell_type": "code",
   "execution_count": 51,
   "outputs": [
    {
     "data": {
      "text/plain": "{'contradiction': 0, 'entailment': 2, 'neutral': 1}"
     },
     "execution_count": 51,
     "metadata": {},
     "output_type": "execute_result"
    }
   ],
   "source": [
    "xlmr.config.label2id"
   ],
   "metadata": {
    "collapsed": false,
    "pycharm": {
     "name": "#%%\n"
    }
   }
  },
  {
   "cell_type": "code",
   "execution_count": 52,
   "outputs": [
    {
     "data": {
      "text/plain": "           id                                            premise  \\\n0  5130fd2cb5  and these comments were considered in formulat...   \n1  5b72532a0b  These are issues that we wrestle with in pract...   \n2  3931fbe82a  Des petites choses comme celles-là font une di...   \n\n                                          hypothesis lang_abv language  label  \n0  The rules developed in the interim were put to...       en  English      2  \n1  Practice groups are not permitted to work on t...       en  English      0  \n2              J'essayais d'accomplir quelque chose.       fr   French      2  ",
      "text/html": "<div>\n<style scoped>\n    .dataframe tbody tr th:only-of-type {\n        vertical-align: middle;\n    }\n\n    .dataframe tbody tr th {\n        vertical-align: top;\n    }\n\n    .dataframe thead th {\n        text-align: right;\n    }\n</style>\n<table border=\"1\" class=\"dataframe\">\n  <thead>\n    <tr style=\"text-align: right;\">\n      <th></th>\n      <th>id</th>\n      <th>premise</th>\n      <th>hypothesis</th>\n      <th>lang_abv</th>\n      <th>language</th>\n      <th>label</th>\n    </tr>\n  </thead>\n  <tbody>\n    <tr>\n      <th>0</th>\n      <td>5130fd2cb5</td>\n      <td>and these comments were considered in formulat...</td>\n      <td>The rules developed in the interim were put to...</td>\n      <td>en</td>\n      <td>English</td>\n      <td>2</td>\n    </tr>\n    <tr>\n      <th>1</th>\n      <td>5b72532a0b</td>\n      <td>These are issues that we wrestle with in pract...</td>\n      <td>Practice groups are not permitted to work on t...</td>\n      <td>en</td>\n      <td>English</td>\n      <td>0</td>\n    </tr>\n    <tr>\n      <th>2</th>\n      <td>3931fbe82a</td>\n      <td>Des petites choses comme celles-là font une di...</td>\n      <td>J'essayais d'accomplir quelque chose.</td>\n      <td>fr</td>\n      <td>French</td>\n      <td>2</td>\n    </tr>\n  </tbody>\n</table>\n</div>"
     },
     "execution_count": 52,
     "metadata": {},
     "output_type": "execute_result"
    }
   ],
   "source": [
    "train_data['label'] = train_data['label'].replace([0, 2], [2, 0])\n",
    "train_data.head(3)"
   ],
   "metadata": {
    "collapsed": false,
    "pycharm": {
     "name": "#%%\n"
    }
   }
  },
  {
   "cell_type": "markdown",
   "source": [
    "# See accuracy with train dataset"
   ],
   "metadata": {
    "collapsed": false
   }
  },
  {
   "cell_type": "code",
   "execution_count": 54,
   "outputs": [
    {
     "data": {
      "text/plain": "<Figure size 720x720 with 1 Axes>",
      "image/png": "[encoded data removed]"
     },
     "metadata": {},
     "output_type": "display_data"
    }
   ],
   "source": [
    "train_data_lang = train_data.groupby('language').count().reset_index()[['language', 'id']]\n",
    "# create a column which tells how many random rows should be extracted for each language\n",
    "train_data_lang['sample_count'] = train_data_lang['id'] / 10\n",
    "\n",
    "# sample data\n",
    "sample_train_data = pd.DataFrame(columns=train_data.columns)\n",
    "for i in range(len(train_data_lang)):\n",
    "    df = train_data[train_data['language'] == train_data_lang['language'][i]]\n",
    "    n = int(train_data_lang['sample_count'][i])\n",
    "    df = df.sample(n).reset_index(drop=True)\n",
    "    sample_train_data = sample_train_data.append(df)\n",
    "    sample_train_data = sample_train_data.reset_index(drop=True)\n",
    "\n",
    "# plot distribution of sample data based on language\n",
    "sample_train_data_lang = sample_train_data.groupby('language').count().reset_index()[['language', 'id']]\n",
    "plt.figure(figsize=(10, 10))\n",
    "plt.pie(sample_train_data_lang['id'], labels=sample_train_data_lang['language'], autopct='%1.1f%%')\n",
    "plt.title('Distribution of Sample Train data based on Language')\n",
    "plt.show()"
   ],
   "metadata": {
    "collapsed": false,
    "pycharm": {
     "name": "#%%\n"
    }
   }
  },
  {
   "cell_type": "code",
   "execution_count": 57,
   "outputs": [
    {
     "name": "stdout",
     "output_type": "stream",
     "text": [
      "   100 / 1208\n",
      "avg_elapsed : 0.29 s. - ETA : 323.58 s. - elapsed : 29.2 s.\n",
      "\n",
      "   200 / 1208\n",
      "avg_elapsed : 0.29 s. - ETA : 293.48 s. - elapsed : 58.23 s.\n",
      "\n",
      "   300 / 1208\n",
      "avg_elapsed : 0.28 s. - ETA : 255.45 s. - elapsed : 84.4 s.\n",
      "\n",
      "   400 / 1208\n",
      "avg_elapsed : 0.27 s. - ETA : 221.18 s. - elapsed : 109.5 s.\n",
      "\n",
      "   500 / 1208\n",
      "avg_elapsed : 0.26 s. - ETA : 187.1 s. - elapsed : 132.14 s.\n",
      "\n",
      "   600 / 1208\n",
      "avg_elapsed : 0.27 s. - ETA : 163.01 s. - elapsed : 160.87 s.\n",
      "\n",
      "   700 / 1208\n",
      "avg_elapsed : 0.26 s. - ETA : 132.69 s. - elapsed : 182.85 s.\n",
      "\n",
      "   800 / 1208\n",
      "avg_elapsed : 0.25 s. - ETA : 103.94 s. - elapsed : 203.81 s.\n",
      "\n",
      "   900 / 1208\n",
      "avg_elapsed : 0.25 s. - ETA : 77.26 s. - elapsed : 225.78 s.\n",
      "\n",
      "  1000 / 1208\n",
      "avg_elapsed : 0.25 s. - ETA : 51.45 s. - elapsed : 247.38 s.\n",
      "\n",
      "  1100 / 1208\n",
      "avg_elapsed : 0.24 s. - ETA : 26.2 s. - elapsed : 266.88 s.\n",
      "\n",
      "  1200 / 1208\n",
      "avg_elapsed : 0.24 s. - ETA : 1.92 s. - elapsed : 287.99 s.\n",
      "\n"
     ]
    }
   ],
   "source": [
    "sample_train_data_tokens = get_tokens_xlmr_model(sample_train_data)\n",
    "sample_train_data_predictions = get_predicts_xlmr_model(sample_train_data_tokens)"
   ],
   "metadata": {
    "collapsed": false,
    "pycharm": {
     "name": "#%%\n"
    }
   }
  },
  {
   "cell_type": "markdown",
   "source": [
    "# Find model accuracy on the predictions"
   ],
   "metadata": {
    "collapsed": false
   }
  },
  {
   "cell_type": "code",
   "execution_count": 58,
   "outputs": [
    {
     "name": "stdout",
     "output_type": "stream",
     "text": [
      "Classification report : \n",
      "                precision    recall  f1-score   support\n",
      "\n",
      "contradiction       0.95      0.92      0.94       436\n",
      "      neutral       0.91      0.89      0.90       359\n",
      "   entailment       0.91      0.95      0.93       413\n",
      "\n",
      "     accuracy                           0.92      1208\n",
      "    macro avg       0.92      0.92      0.92      1208\n",
      " weighted avg       0.92      0.92      0.92      1208\n",
      "\n"
     ]
    },
    {
     "name": "stderr",
     "output_type": "stream",
     "text": [
      "/tmp/ipykernel_212333/3600761344.py:6: FutureWarning: Using a non-tuple sequence for multidimensional indexing is deprecated; use `arr[tuple(seq)]` instead of `arr[seq]`. In the future this will be interpreted as an array index, `arr[np.array(seq)]`, which will result either in an error or a different result.\n",
      "  np.add.at(cm, [x, y], 1)\n"
     ]
    },
    {
     "data": {
      "text/plain": "<Figure size 432x288 with 2 Axes>",
      "image/png": "[encoded data removed]"
     },
     "metadata": {
      "needs_background": "light"
     },
     "output_type": "display_data"
    }
   ],
   "source": [
    "# plot the confusion matrix and classification report for original labels to the predicted labels\n",
    "sample_train_data['label'] = sample_train_data['label'].astype(str).astype(int)\n",
    "x = np.array(sample_train_data['label'])\n",
    "y = np.array(sample_train_data_predictions)\n",
    "cm = np.zeros((3, 3), dtype=int)\n",
    "np.add.at(cm, [x, y], 1)\n",
    "sns.heatmap(cm, cmap=\"YlGnBu\", annot=True, annot_kws={'size': 16}, fmt='g',\n",
    "            xticklabels=['contradiction', 'neutral', 'entailment'],\n",
    "            yticklabels=['contradiction', 'neutral', 'entailment'])\n",
    "matrix = classification_report(x, y, labels=[0, 1, 2], target_names=['contradiction', 'neutral', 'entailment'])\n",
    "print('Classification report : \\n', matrix)"
   ],
   "metadata": {
    "collapsed": false,
    "pycharm": {
     "name": "#%%\n"
    }
   }
  },
  {
   "cell_type": "markdown",
   "source": [
    "# Find model accuracy at language level"
   ],
   "metadata": {
    "collapsed": false
   }
  },
  {
   "cell_type": "code",
   "execution_count": 59,
   "outputs": [
    {
     "data": {
      "text/plain": "      language   id  true_prediction  accuracy\n1    Bulgarian   34               34      1.00\n5       German   35               35      1.00\n6        Greek   37               37      1.00\n7        Hindi   37               37      1.00\n8      Russian   37               37      1.00\n9      Spanish   36               36      1.00\n11        Thai   37               37      1.00\n12     Turkish   35               35      1.00\n13        Urdu   38               38      1.00\n14  Vietnamese   37               37      1.00\n0       Arabic   40               39      0.98\n2      Chinese   41               40      0.98\n4       French   39               38      0.97\n10     Swahili   38               36      0.95\n3      English  687              598      0.87",
      "text/html": "<div>\n<style scoped>\n    .dataframe tbody tr th:only-of-type {\n        vertical-align: middle;\n    }\n\n    .dataframe tbody tr th {\n        vertical-align: top;\n    }\n\n    .dataframe thead th {\n        text-align: right;\n    }\n</style>\n<table border=\"1\" class=\"dataframe\">\n  <thead>\n    <tr style=\"text-align: right;\">\n      <th></th>\n      <th>language</th>\n      <th>id</th>\n      <th>true_prediction</th>\n      <th>accuracy</th>\n    </tr>\n  </thead>\n  <tbody>\n    <tr>\n      <th>1</th>\n      <td>Bulgarian</td>\n      <td>34</td>\n      <td>34</td>\n      <td>1.00</td>\n    </tr>\n    <tr>\n      <th>5</th>\n      <td>German</td>\n      <td>35</td>\n      <td>35</td>\n      <td>1.00</td>\n    </tr>\n    <tr>\n      <th>6</th>\n      <td>Greek</td>\n      <td>37</td>\n      <td>37</td>\n      <td>1.00</td>\n    </tr>\n    <tr>\n      <th>7</th>\n      <td>Hindi</td>\n      <td>37</td>\n      <td>37</td>\n      <td>1.00</td>\n    </tr>\n    <tr>\n      <th>8</th>\n      <td>Russian</td>\n      <td>37</td>\n      <td>37</td>\n      <td>1.00</td>\n    </tr>\n    <tr>\n      <th>9</th>\n      <td>Spanish</td>\n      <td>36</td>\n      <td>36</td>\n      <td>1.00</td>\n    </tr>\n    <tr>\n      <th>11</th>\n      <td>Thai</td>\n      <td>37</td>\n      <td>37</td>\n      <td>1.00</td>\n    </tr>\n    <tr>\n      <th>12</th>\n      <td>Turkish</td>\n      <td>35</td>\n      <td>35</td>\n      <td>1.00</td>\n    </tr>\n    <tr>\n      <th>13</th>\n      <td>Urdu</td>\n      <td>38</td>\n      <td>38</td>\n      <td>1.00</td>\n    </tr>\n    <tr>\n      <th>14</th>\n      <td>Vietnamese</td>\n      <td>37</td>\n      <td>37</td>\n      <td>1.00</td>\n    </tr>\n    <tr>\n      <th>0</th>\n      <td>Arabic</td>\n      <td>40</td>\n      <td>39</td>\n      <td>0.98</td>\n    </tr>\n    <tr>\n      <th>2</th>\n      <td>Chinese</td>\n      <td>41</td>\n      <td>40</td>\n      <td>0.98</td>\n    </tr>\n    <tr>\n      <th>4</th>\n      <td>French</td>\n      <td>39</td>\n      <td>38</td>\n      <td>0.97</td>\n    </tr>\n    <tr>\n      <th>10</th>\n      <td>Swahili</td>\n      <td>38</td>\n      <td>36</td>\n      <td>0.95</td>\n    </tr>\n    <tr>\n      <th>3</th>\n      <td>English</td>\n      <td>687</td>\n      <td>598</td>\n      <td>0.87</td>\n    </tr>\n  </tbody>\n</table>\n</div>"
     },
     "execution_count": 59,
     "metadata": {},
     "output_type": "execute_result"
    }
   ],
   "source": [
    "sample_train_data['prediction'] = sample_train_data_predictions\n",
    "sample_train_data['true_prediction'] = np.where(sample_train_data['label']==sample_train_data['prediction'], 1, 0)\n",
    "sample_train_data_predicted_lang = sample_train_data.groupby('language').agg({'id':'count', 'true_prediction':'sum'}).reset_index()[['language','id','true_prediction']]\n",
    "sample_train_data_predicted_lang['accuracy'] = round(sample_train_data_predicted_lang['true_prediction']/sample_train_data_predicted_lang['id'], 2)\n",
    "sample_train_data_predicted_lang = sample_train_data_predicted_lang.sort_values(by=['accuracy'],ascending=False)\n",
    "sample_train_data_predicted_lang"
   ],
   "metadata": {
    "collapsed": false,
    "pycharm": {
     "name": "#%%\n"
    }
   }
  },
  {
   "cell_type": "markdown",
   "source": [
    "# Predict"
   ],
   "metadata": {
    "collapsed": false
   }
  },
  {
   "cell_type": "code",
   "execution_count": 55,
   "outputs": [],
   "source": [
    "def get_tokens_xlmr_model(data):\n",
    "    \"\"\" Function which creates tokens for the passed data using XLM-R model\n",
    "    input — Dataframe\n",
    "    Output — list of tokens \"\"\"\n",
    "    batch_tokens = []\n",
    "    for i in range(len(data)):\n",
    "        tokens = tokenizer.encode(data['premise'][i], data['hypothesis'][i], return_tensors='pt',\n",
    "                                  truncation='only_first')\n",
    "        batch_tokens.append(tokens)\n",
    "    return batch_tokens"
   ],
   "metadata": {
    "collapsed": false,
    "pycharm": {
     "name": "#%%\n"
    }
   }
  },
  {
   "cell_type": "code",
   "execution_count": 56,
   "outputs": [],
   "source": [
    "def get_predicts_xlmr_model(tokens):\n",
    "    \"\"\" Function which creates predictions for the passed tokens using XLM-R model\n",
    "    input — list of tokens\n",
    "    Output — list of predictions \"\"\"\n",
    "    import time\n",
    "    avg_elapsed = 0\n",
    "    t_total = time.time()\n",
    "    batch_predicts = []\n",
    "    count=0\n",
    "    for i in tokens:\n",
    "        t = time.time()\n",
    "        predict = xlmr(i)[0][0]\n",
    "        predict = int(predict.argmax())\n",
    "        batch_predicts.append(predict)\n",
    "        count+=1\n",
    "        avg_elapsed = (avg_elapsed * (count-1) + (time.time() - t)) / count\n",
    "        if count % 100 == 0:\n",
    "            print(str(count).rjust(6),\"/\",len(tokens))\n",
    "            print(\"avg_elapsed :\",np.round(avg_elapsed,2),\"s. - ETA :\",np.round(avg_elapsed * (len(tokens)-count),2),\"s. - elapsed :\",np.round(time.time()-t_total,2),\"s.\\n\")\n",
    "    return batch_predicts"
   ],
   "metadata": {
    "collapsed": false,
    "pycharm": {
     "name": "#%%\n"
    }
   }
  },
  {
   "cell_type": "code",
   "execution_count": 21,
   "outputs": [],
   "source": [
    "test_data[\"token\"] = get_tokens_xlmr_model(test_data)"
   ],
   "metadata": {
    "collapsed": false,
    "pycharm": {
     "name": "#%%\n"
    }
   }
  },
  {
   "cell_type": "code",
   "execution_count": 30,
   "outputs": [
    {
     "name": "stdout",
     "output_type": "stream",
     "text": [
      "   100 / 5195\n",
      "avg_elapsed : 0.23 s. - ETA : 1170.51 s. - elapsed : 22.97 s.\n",
      "\n",
      "   200 / 5195\n",
      "avg_elapsed : 0.23 s. - ETA : 1163.28 s. - elapsed : 46.58 s.\n",
      "\n",
      "   300 / 5195\n",
      "avg_elapsed : 0.23 s. - ETA : 1120.93 s. - elapsed : 68.7 s.\n",
      "\n",
      "   400 / 5195\n",
      "avg_elapsed : 0.22 s. - ETA : 1074.39 s. - elapsed : 89.63 s.\n",
      "\n",
      "   500 / 5195\n",
      "avg_elapsed : 0.22 s. - ETA : 1046.48 s. - elapsed : 111.45 s.\n",
      "\n",
      "   600 / 5195\n",
      "avg_elapsed : 0.24 s. - ETA : 1091.48 s. - elapsed : 142.53 s.\n",
      "\n",
      "   700 / 5195\n",
      "avg_elapsed : 0.23 s. - ETA : 1054.64 s. - elapsed : 164.24 s.\n",
      "\n",
      "   800 / 5195\n",
      "avg_elapsed : 0.23 s. - ETA : 1016.49 s. - elapsed : 185.03 s.\n",
      "\n",
      "   900 / 5195\n",
      "avg_elapsed : 0.23 s. - ETA : 985.62 s. - elapsed : 206.54 s.\n",
      "\n",
      "  1000 / 5195\n",
      "avg_elapsed : 0.23 s. - ETA : 952.36 s. - elapsed : 227.03 s.\n",
      "\n",
      "  1100 / 5195\n",
      "avg_elapsed : 0.23 s. - ETA : 924.95 s. - elapsed : 248.47 s.\n",
      "\n",
      "  1200 / 5195\n",
      "avg_elapsed : 0.22 s. - ETA : 898.24 s. - elapsed : 269.82 s.\n",
      "\n",
      "  1300 / 5195\n",
      "avg_elapsed : 0.23 s. - ETA : 880.56 s. - elapsed : 293.91 s.\n",
      "\n",
      "  1400 / 5195\n",
      "avg_elapsed : 0.23 s. - ETA : 857.29 s. - elapsed : 316.27 s.\n",
      "\n",
      "  1500 / 5195\n",
      "avg_elapsed : 0.23 s. - ETA : 835.73 s. - elapsed : 339.28 s.\n",
      "\n",
      "  1600 / 5195\n",
      "avg_elapsed : 0.23 s. - ETA : 819.13 s. - elapsed : 364.58 s.\n",
      "\n",
      "  1700 / 5195\n",
      "avg_elapsed : 0.23 s. - ETA : 796.38 s. - elapsed : 387.38 s.\n",
      "\n",
      "  1800 / 5195\n",
      "avg_elapsed : 0.23 s. - ETA : 772.1 s. - elapsed : 409.38 s.\n",
      "\n",
      "  1900 / 5195\n",
      "avg_elapsed : 0.23 s. - ETA : 751.32 s. - elapsed : 433.26 s.\n",
      "\n",
      "  2000 / 5195\n",
      "avg_elapsed : 0.23 s. - ETA : 729.92 s. - elapsed : 456.94 s.\n",
      "\n",
      "  2100 / 5195\n",
      "avg_elapsed : 0.23 s. - ETA : 710.43 s. - elapsed : 482.06 s.\n",
      "\n",
      "  2200 / 5195\n",
      "avg_elapsed : 0.23 s. - ETA : 689.47 s. - elapsed : 506.48 s.\n",
      "\n",
      "  2300 / 5195\n",
      "avg_elapsed : 0.23 s. - ETA : 665.73 s. - elapsed : 528.93 s.\n",
      "\n",
      "  2400 / 5195\n",
      "avg_elapsed : 0.23 s. - ETA : 638.35 s. - elapsed : 548.16 s.\n",
      "\n",
      "  2500 / 5195\n",
      "avg_elapsed : 0.23 s. - ETA : 617.47 s. - elapsed : 572.82 s.\n",
      "\n",
      "  2600 / 5195\n",
      "avg_elapsed : 0.23 s. - ETA : 595.31 s. - elapsed : 596.49 s.\n",
      "\n",
      "  2700 / 5195\n",
      "avg_elapsed : 0.23 s. - ETA : 573.9 s. - elapsed : 621.08 s.\n",
      "\n",
      "  2800 / 5195\n",
      "avg_elapsed : 0.23 s. - ETA : 549.36 s. - elapsed : 642.29 s.\n",
      "\n",
      "  2900 / 5195\n",
      "avg_elapsed : 0.23 s. - ETA : 525.01 s. - elapsed : 663.44 s.\n",
      "\n",
      "  3000 / 5195\n",
      "avg_elapsed : 0.23 s. - ETA : 500.98 s. - elapsed : 684.74 s.\n",
      "\n",
      "  3100 / 5195\n",
      "avg_elapsed : 0.23 s. - ETA : 478.55 s. - elapsed : 708.16 s.\n",
      "\n",
      "  3200 / 5195\n",
      "avg_elapsed : 0.23 s. - ETA : 456.0 s. - elapsed : 731.46 s.\n",
      "\n",
      "  3300 / 5195\n",
      "avg_elapsed : 0.23 s. - ETA : 433.16 s. - elapsed : 754.36 s.\n",
      "\n",
      "  3400 / 5195\n",
      "avg_elapsed : 0.23 s. - ETA : 410.05 s. - elapsed : 776.73 s.\n",
      "\n",
      "  3500 / 5195\n",
      "avg_elapsed : 0.23 s. - ETA : 386.82 s. - elapsed : 798.77 s.\n",
      "\n",
      "  3600 / 5195\n",
      "avg_elapsed : 0.23 s. - ETA : 363.47 s. - elapsed : 820.41 s.\n",
      "\n",
      "  3700 / 5195\n",
      "avg_elapsed : 0.23 s. - ETA : 340.12 s. - elapsed : 841.8 s.\n",
      "\n",
      "  3800 / 5195\n",
      "avg_elapsed : 0.23 s. - ETA : 316.82 s. - elapsed : 863.06 s.\n",
      "\n",
      "  3900 / 5195\n",
      "avg_elapsed : 0.23 s. - ETA : 293.44 s. - elapsed : 883.77 s.\n",
      "\n",
      "  4000 / 5195\n",
      "avg_elapsed : 0.23 s. - ETA : 270.91 s. - elapsed : 906.84 s.\n",
      "\n",
      "  4100 / 5195\n",
      "avg_elapsed : 0.23 s. - ETA : 247.89 s. - elapsed : 928.23 s.\n",
      "\n",
      "  4200 / 5195\n",
      "avg_elapsed : 0.23 s. - ETA : 225.32 s. - elapsed : 951.14 s.\n",
      "\n",
      "  4300 / 5195\n",
      "avg_elapsed : 0.23 s. - ETA : 202.43 s. - elapsed : 972.62 s.\n",
      "\n",
      "  4400 / 5195\n",
      "avg_elapsed : 0.23 s. - ETA : 179.69 s. - elapsed : 994.57 s.\n",
      "\n",
      "  4500 / 5195\n",
      "avg_elapsed : 0.23 s. - ETA : 156.87 s. - elapsed : 1015.74 s.\n",
      "\n",
      "  4600 / 5195\n",
      "avg_elapsed : 0.23 s. - ETA : 134.14 s. - elapsed : 1037.07 s.\n",
      "\n",
      "  4700 / 5195\n",
      "avg_elapsed : 0.23 s. - ETA : 111.74 s. - elapsed : 1061.02 s.\n",
      "\n",
      "  4800 / 5195\n",
      "avg_elapsed : 0.23 s. - ETA : 89.13 s. - elapsed : 1083.21 s.\n",
      "\n",
      "  4900 / 5195\n",
      "avg_elapsed : 0.23 s. - ETA : 66.57 s. - elapsed : 1105.81 s.\n",
      "\n",
      "  5000 / 5195\n",
      "avg_elapsed : 0.23 s. - ETA : 44.05 s. - elapsed : 1129.48 s.\n",
      "\n",
      "  5100 / 5195\n",
      "avg_elapsed : 0.23 s. - ETA : 21.45 s. - elapsed : 1151.78 s.\n",
      "\n"
     ]
    }
   ],
   "source": [
    "test_data[\"prediction\"] = get_predicts_xlmr_model(test_data[\"token\"])"
   ],
   "metadata": {
    "collapsed": false,
    "pycharm": {
     "name": "#%%\n"
    }
   }
  },
  {
   "cell_type": "code",
   "execution_count": 38,
   "outputs": [
    {
     "data": {
      "text/plain": "           id                                            premise  \\\n0  c6d58c3f69  بکس، کیسی، راہیل، یسعیاہ، کیلی، کیلی، اور کولم...   \n1  cefcc82292                             هذا هو ما تم نصحنا به.   \n2  e98005252c  et cela est en grande partie dû au fait que le...   \n3  58518c10ba                   与城市及其他公民及社区组织代表就IMA的艺术发展进行对话&amp   \n4  c32b0d16df                              Она все еще была там.   \n\n                                          hypothesis lang_abv language  \\\n0  کیسی کے لئے کوئی یادگار نہیں ہوگا, کولمین ہائی...       ur     Urdu   \n1  عندما يتم إخبارهم بما يجب عليهم فعله ، فشلت ال...       ar   Arabic   \n2                             Les mères se droguent.       fr   French   \n3                            IMA与其他组织合作，因为它们都依靠共享资金。       zh  Chinese   \n4     Мы думали, что она ушла, однако, она осталась.       ru  Russian   \n\n                                               token  prediction  \n0  [[tensor(0), tensor(676), tensor(20658), tenso...           2  \n1  [[tensor(0), tensor(2433), tensor(1638), tenso...           1  \n2  [[tensor(0), tensor(82), tensor(10804), tensor...           0  \n3  [[tensor(0), tensor(6), tensor(1189), tensor(7...           1  \n4  [[tensor(0), tensor(12786), tensor(1203), tens...           1  ",
      "text/html": "<div>\n<style scoped>\n    .dataframe tbody tr th:only-of-type {\n        vertical-align: middle;\n    }\n\n    .dataframe tbody tr th {\n        vertical-align: top;\n    }\n\n    .dataframe thead th {\n        text-align: right;\n    }\n</style>\n<table border=\"1\" class=\"dataframe\">\n  <thead>\n    <tr style=\"text-align: right;\">\n      <th></th>\n      <th>id</th>\n      <th>premise</th>\n      <th>hypothesis</th>\n      <th>lang_abv</th>\n      <th>language</th>\n      <th>token</th>\n      <th>prediction</th>\n    </tr>\n  </thead>\n  <tbody>\n    <tr>\n      <th>0</th>\n      <td>c6d58c3f69</td>\n      <td>بکس، کیسی، راہیل، یسعیاہ، کیلی، کیلی، اور کولم...</td>\n      <td>کیسی کے لئے کوئی یادگار نہیں ہوگا, کولمین ہائی...</td>\n      <td>ur</td>\n      <td>Urdu</td>\n      <td>[[tensor(0), tensor(676), tensor(20658), tenso...</td>\n      <td>2</td>\n    </tr>\n    <tr>\n      <th>1</th>\n      <td>cefcc82292</td>\n      <td>هذا هو ما تم نصحنا به.</td>\n      <td>عندما يتم إخبارهم بما يجب عليهم فعله ، فشلت ال...</td>\n      <td>ar</td>\n      <td>Arabic</td>\n      <td>[[tensor(0), tensor(2433), tensor(1638), tenso...</td>\n      <td>1</td>\n    </tr>\n    <tr>\n      <th>2</th>\n      <td>e98005252c</td>\n      <td>et cela est en grande partie dû au fait que le...</td>\n      <td>Les mères se droguent.</td>\n      <td>fr</td>\n      <td>French</td>\n      <td>[[tensor(0), tensor(82), tensor(10804), tensor...</td>\n      <td>0</td>\n    </tr>\n    <tr>\n      <th>3</th>\n      <td>58518c10ba</td>\n      <td>与城市及其他公民及社区组织代表就IMA的艺术发展进行对话&amp;amp</td>\n      <td>IMA与其他组织合作，因为它们都依靠共享资金。</td>\n      <td>zh</td>\n      <td>Chinese</td>\n      <td>[[tensor(0), tensor(6), tensor(1189), tensor(7...</td>\n      <td>1</td>\n    </tr>\n    <tr>\n      <th>4</th>\n      <td>c32b0d16df</td>\n      <td>Она все еще была там.</td>\n      <td>Мы думали, что она ушла, однако, она осталась.</td>\n      <td>ru</td>\n      <td>Russian</td>\n      <td>[[tensor(0), tensor(12786), tensor(1203), tens...</td>\n      <td>1</td>\n    </tr>\n  </tbody>\n</table>\n</div>"
     },
     "execution_count": 38,
     "metadata": {},
     "output_type": "execute_result"
    }
   ],
   "source": [
    "test_data.head()"
   ],
   "metadata": {
    "collapsed": false,
    "pycharm": {
     "name": "#%%\n"
    }
   }
  },
  {
   "cell_type": "markdown",
   "source": [
    "# match model labels and dataset labels"
   ],
   "metadata": {
    "collapsed": false
   }
  },
  {
   "cell_type": "code",
   "execution_count": 32,
   "outputs": [],
   "source": [
    "test_data['prediction'] = test_data['prediction'].replace([0, 2], [2, 0])"
   ],
   "metadata": {
    "collapsed": false,
    "pycharm": {
     "name": "#%%\n"
    }
   }
  },
  {
   "cell_type": "code",
   "execution_count": 33,
   "outputs": [
    {
     "data": {
      "text/plain": "           id                                            premise  \\\n0  c6d58c3f69  بکس، کیسی، راہیل، یسعیاہ، کیلی، کیلی، اور کولم...   \n1  cefcc82292                             هذا هو ما تم نصحنا به.   \n2  e98005252c  et cela est en grande partie dû au fait que le...   \n3  58518c10ba                   与城市及其他公民及社区组织代表就IMA的艺术发展进行对话&amp   \n4  c32b0d16df                              Она все еще была там.   \n\n                                          hypothesis lang_abv language  \\\n0  کیسی کے لئے کوئی یادگار نہیں ہوگا, کولمین ہائی...       ur     Urdu   \n1  عندما يتم إخبارهم بما يجب عليهم فعله ، فشلت ال...       ar   Arabic   \n2                             Les mères se droguent.       fr   French   \n3                            IMA与其他组织合作，因为它们都依靠共享资金。       zh  Chinese   \n4     Мы думали, что она ушла, однако, она осталась.       ru  Russian   \n\n                                               token  prediction  \n0  [[tensor(0), tensor(676), tensor(20658), tenso...           2  \n1  [[tensor(0), tensor(2433), tensor(1638), tenso...           1  \n2  [[tensor(0), tensor(82), tensor(10804), tensor...           0  \n3  [[tensor(0), tensor(6), tensor(1189), tensor(7...           1  \n4  [[tensor(0), tensor(12786), tensor(1203), tens...           1  ",
      "text/html": "<div>\n<style scoped>\n    .dataframe tbody tr th:only-of-type {\n        vertical-align: middle;\n    }\n\n    .dataframe tbody tr th {\n        vertical-align: top;\n    }\n\n    .dataframe thead th {\n        text-align: right;\n    }\n</style>\n<table border=\"1\" class=\"dataframe\">\n  <thead>\n    <tr style=\"text-align: right;\">\n      <th></th>\n      <th>id</th>\n      <th>premise</th>\n      <th>hypothesis</th>\n      <th>lang_abv</th>\n      <th>language</th>\n      <th>token</th>\n      <th>prediction</th>\n    </tr>\n  </thead>\n  <tbody>\n    <tr>\n      <th>0</th>\n      <td>c6d58c3f69</td>\n      <td>بکس، کیسی، راہیل، یسعیاہ، کیلی، کیلی، اور کولم...</td>\n      <td>کیسی کے لئے کوئی یادگار نہیں ہوگا, کولمین ہائی...</td>\n      <td>ur</td>\n      <td>Urdu</td>\n      <td>[[tensor(0), tensor(676), tensor(20658), tenso...</td>\n      <td>2</td>\n    </tr>\n    <tr>\n      <th>1</th>\n      <td>cefcc82292</td>\n      <td>هذا هو ما تم نصحنا به.</td>\n      <td>عندما يتم إخبارهم بما يجب عليهم فعله ، فشلت ال...</td>\n      <td>ar</td>\n      <td>Arabic</td>\n      <td>[[tensor(0), tensor(2433), tensor(1638), tenso...</td>\n      <td>1</td>\n    </tr>\n    <tr>\n      <th>2</th>\n      <td>e98005252c</td>\n      <td>et cela est en grande partie dû au fait que le...</td>\n      <td>Les mères se droguent.</td>\n      <td>fr</td>\n      <td>French</td>\n      <td>[[tensor(0), tensor(82), tensor(10804), tensor...</td>\n      <td>0</td>\n    </tr>\n    <tr>\n      <th>3</th>\n      <td>58518c10ba</td>\n      <td>与城市及其他公民及社区组织代表就IMA的艺术发展进行对话&amp;amp</td>\n      <td>IMA与其他组织合作，因为它们都依靠共享资金。</td>\n      <td>zh</td>\n      <td>Chinese</td>\n      <td>[[tensor(0), tensor(6), tensor(1189), tensor(7...</td>\n      <td>1</td>\n    </tr>\n    <tr>\n      <th>4</th>\n      <td>c32b0d16df</td>\n      <td>Она все еще была там.</td>\n      <td>Мы думали, что она ушла, однако, она осталась.</td>\n      <td>ru</td>\n      <td>Russian</td>\n      <td>[[tensor(0), tensor(12786), tensor(1203), tens...</td>\n      <td>1</td>\n    </tr>\n  </tbody>\n</table>\n</div>"
     },
     "execution_count": 33,
     "metadata": {},
     "output_type": "execute_result"
    }
   ],
   "source": [
    "test_data.head()"
   ],
   "metadata": {
    "collapsed": false,
    "pycharm": {
     "name": "#%%\n"
    }
   }
  },
  {
   "cell_type": "code",
   "execution_count": 34,
   "outputs": [],
   "source": [
    "submission = test_data[[\"id\",\"prediction\"]]"
   ],
   "metadata": {
    "collapsed": false,
    "pycharm": {
     "name": "#%%\n"
    }
   }
  },
  {
   "cell_type": "code",
   "execution_count": 35,
   "outputs": [
    {
     "data": {
      "text/plain": "           id  prediction\n0  c6d58c3f69           2\n1  cefcc82292           1\n2  e98005252c           0\n3  58518c10ba           1\n4  c32b0d16df           1",
      "text/html": "<div>\n<style scoped>\n    .dataframe tbody tr th:only-of-type {\n        vertical-align: middle;\n    }\n\n    .dataframe tbody tr th {\n        vertical-align: top;\n    }\n\n    .dataframe thead th {\n        text-align: right;\n    }\n</style>\n<table border=\"1\" class=\"dataframe\">\n  <thead>\n    <tr style=\"text-align: right;\">\n      <th></th>\n      <th>id</th>\n      <th>prediction</th>\n    </tr>\n  </thead>\n  <tbody>\n    <tr>\n      <th>0</th>\n      <td>c6d58c3f69</td>\n      <td>2</td>\n    </tr>\n    <tr>\n      <th>1</th>\n      <td>cefcc82292</td>\n      <td>1</td>\n    </tr>\n    <tr>\n      <th>2</th>\n      <td>e98005252c</td>\n      <td>0</td>\n    </tr>\n    <tr>\n      <th>3</th>\n      <td>58518c10ba</td>\n      <td>1</td>\n    </tr>\n    <tr>\n      <th>4</th>\n      <td>c32b0d16df</td>\n      <td>1</td>\n    </tr>\n  </tbody>\n</table>\n</div>"
     },
     "execution_count": 35,
     "metadata": {},
     "output_type": "execute_result"
    }
   ],
   "source": [
    "submission.head()"
   ],
   "metadata": {
    "collapsed": false,
    "pycharm": {
     "name": "#%%\n"
    }
   }
  },
  {
   "cell_type": "code",
   "execution_count": 37,
   "outputs": [],
   "source": [
    "submission.to_csv(\"submission_xlm-r.csv\",index=False)"
   ],
   "metadata": {
    "collapsed": false,
    "pycharm": {
     "name": "#%%\n"
    }
   }
  }
 ],
 "metadata": {
  "kernelspec": {
   "display_name": "Python 3",
   "language": "python",
   "name": "python3"
  },
  "language_info": {
   "codemirror_mode": {
    "name": "ipython",
    "version": 2
   },
   "file_extension": ".py",
   "mimetype": "text/x-python",
   "name": "python",
   "nbconvert_exporter": "python",
   "pygments_lexer": "ipython2",
   "version": "2.7.6"
  }
 },
 "nbformat": 4,
 "nbformat_minor": 0
}