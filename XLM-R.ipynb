{
 "cells": [
  {
   "cell_type": "markdown",
   "source": [
    "source link : https://affine.medium.com/natural-language-inferencing-nli-task-demonstration-using-kaggle-dataset-34cbce0f0852"
   ],
   "metadata": {
    "collapsed": false,
    "pycharm": {
     "name": "#%% md\n"
    }
   }
  },
  {
   "cell_type": "code",
   "execution_count": 1,
   "metadata": {
    "collapsed": true
   },
   "outputs": [],
   "source": [
    "from transformers import AutoModelForSequenceClassification, AutoTokenizer\n",
    "import pandas as pd\n",
    "import matplotlib.pyplot as plt\n",
    "import numpy as np\n",
    "import seaborn as sns\n",
    "from sklearn.metrics import classification_report\n",
    "import torch"
   ]
  },
  {
   "cell_type": "code",
   "execution_count": 2,
   "outputs": [
    {
     "name": "stderr",
     "output_type": "stream",
     "text": [
      "Some weights of the model checkpoint at joeddav/xlm-roberta-large-xnli were not used when initializing XLMRobertaForSequenceClassification: ['roberta.pooler.dense.bias', 'roberta.pooler.dense.weight']\n",
      "- This IS expected if you are initializing XLMRobertaForSequenceClassification from the checkpoint of a model trained on another task or with another architecture (e.g. initializing a BertForSequenceClassification model from a BertForPreTraining model).\n",
      "- This IS NOT expected if you are initializing XLMRobertaForSequenceClassification from the checkpoint of a model that you expect to be exactly identical (initializing a BertForSequenceClassification model from a BertForSequenceClassification model).\n"
     ]
    }
   ],
   "source": [
    "xlmr = AutoModelForSequenceClassification.from_pretrained('joeddav/xlm-roberta-large-xnli')"
   ],
   "metadata": {
    "collapsed": false,
    "pycharm": {
     "name": "#%%\n"
    }
   }
  },
  {
   "cell_type": "code",
   "execution_count": 3,
   "outputs": [],
   "source": [
    "tokenizer = AutoTokenizer.from_pretrained('joeddav/xlm-roberta-large-xnli')"
   ],
   "metadata": {
    "collapsed": false,
    "pycharm": {
     "name": "#%%\n"
    }
   }
  },
  {
   "cell_type": "code",
   "execution_count": 4,
   "outputs": [
    {
     "data": {
      "text/plain": "           id                                            premise  \\\n0  5130fd2cb5  and these comments were considered in formulat...   \n1  5b72532a0b  These are issues that we wrestle with in pract...   \n2  3931fbe82a  Des petites choses comme celles-là font une di...   \n\n                                          hypothesis lang_abv language  label  \n0  The rules developed in the interim were put to...       en  English      0  \n1  Practice groups are not permitted to work on t...       en  English      2  \n2              J'essayais d'accomplir quelque chose.       fr   French      0  ",
      "text/html": "<div>\n<style scoped>\n    .dataframe tbody tr th:only-of-type {\n        vertical-align: middle;\n    }\n\n    .dataframe tbody tr th {\n        vertical-align: top;\n    }\n\n    .dataframe thead th {\n        text-align: right;\n    }\n</style>\n<table border=\"1\" class=\"dataframe\">\n  <thead>\n    <tr style=\"text-align: right;\">\n      <th></th>\n      <th>id</th>\n      <th>premise</th>\n      <th>hypothesis</th>\n      <th>lang_abv</th>\n      <th>language</th>\n      <th>label</th>\n    </tr>\n  </thead>\n  <tbody>\n    <tr>\n      <th>0</th>\n      <td>5130fd2cb5</td>\n      <td>and these comments were considered in formulat...</td>\n      <td>The rules developed in the interim were put to...</td>\n      <td>en</td>\n      <td>English</td>\n      <td>0</td>\n    </tr>\n    <tr>\n      <th>1</th>\n      <td>5b72532a0b</td>\n      <td>These are issues that we wrestle with in pract...</td>\n      <td>Practice groups are not permitted to work on t...</td>\n      <td>en</td>\n      <td>English</td>\n      <td>2</td>\n    </tr>\n    <tr>\n      <th>2</th>\n      <td>3931fbe82a</td>\n      <td>Des petites choses comme celles-là font une di...</td>\n      <td>J'essayais d'accomplir quelque chose.</td>\n      <td>fr</td>\n      <td>French</td>\n      <td>0</td>\n    </tr>\n  </tbody>\n</table>\n</div>"
     },
     "execution_count": 4,
     "metadata": {},
     "output_type": "execute_result"
    }
   ],
   "source": [
    "train_data = pd.read_csv(\"../data/train.csv\")\n",
    "# train_data = pd.read_csv(\"../data/translated_data_train.csv\")\n",
    "train_data.head(3)"
   ],
   "metadata": {
    "collapsed": false,
    "pycharm": {
     "name": "#%%\n"
    }
   }
  },
  {
   "cell_type": "code",
   "execution_count": 5,
   "outputs": [
    {
     "data": {
      "text/plain": "           id                                            premise  \\\n0  c6d58c3f69  بکس، کیسی، راہیل، یسعیاہ، کیلی، کیلی، اور کولم...   \n1  cefcc82292                             هذا هو ما تم نصحنا به.   \n2  e98005252c  et cela est en grande partie dû au fait que le...   \n\n                                          hypothesis lang_abv language  \n0  کیسی کے لئے کوئی یادگار نہیں ہوگا, کولمین ہائی...       ur     Urdu  \n1  عندما يتم إخبارهم بما يجب عليهم فعله ، فشلت ال...       ar   Arabic  \n2                             Les mères se droguent.       fr   French  ",
      "text/html": "<div>\n<style scoped>\n    .dataframe tbody tr th:only-of-type {\n        vertical-align: middle;\n    }\n\n    .dataframe tbody tr th {\n        vertical-align: top;\n    }\n\n    .dataframe thead th {\n        text-align: right;\n    }\n</style>\n<table border=\"1\" class=\"dataframe\">\n  <thead>\n    <tr style=\"text-align: right;\">\n      <th></th>\n      <th>id</th>\n      <th>premise</th>\n      <th>hypothesis</th>\n      <th>lang_abv</th>\n      <th>language</th>\n    </tr>\n  </thead>\n  <tbody>\n    <tr>\n      <th>0</th>\n      <td>c6d58c3f69</td>\n      <td>بکس، کیسی، راہیل، یسعیاہ، کیلی، کیلی، اور کولم...</td>\n      <td>کیسی کے لئے کوئی یادگار نہیں ہوگا, کولمین ہائی...</td>\n      <td>ur</td>\n      <td>Urdu</td>\n    </tr>\n    <tr>\n      <th>1</th>\n      <td>cefcc82292</td>\n      <td>هذا هو ما تم نصحنا به.</td>\n      <td>عندما يتم إخبارهم بما يجب عليهم فعله ، فشلت ال...</td>\n      <td>ar</td>\n      <td>Arabic</td>\n    </tr>\n    <tr>\n      <th>2</th>\n      <td>e98005252c</td>\n      <td>et cela est en grande partie dû au fait que le...</td>\n      <td>Les mères se droguent.</td>\n      <td>fr</td>\n      <td>French</td>\n    </tr>\n  </tbody>\n</table>\n</div>"
     },
     "execution_count": 5,
     "metadata": {},
     "output_type": "execute_result"
    }
   ],
   "source": [
    "test_data = pd.read_csv(\"../data/test.csv\")\n",
    "# test_data = pd.read_csv(\"../data/translated_data_test.csv\")\n",
    "test_data.head(3)"
   ],
   "metadata": {
    "collapsed": false,
    "pycharm": {
     "name": "#%%\n"
    }
   }
  },
  {
   "cell_type": "markdown",
   "source": [
    "# match model labels and dataset labels"
   ],
   "metadata": {
    "collapsed": false,
    "pycharm": {
     "name": "#%% md\n"
    }
   }
  },
  {
   "cell_type": "code",
   "execution_count": 6,
   "outputs": [
    {
     "data": {
      "text/plain": "{'contradiction': 0, 'entailment': 2, 'neutral': 1}"
     },
     "execution_count": 6,
     "metadata": {},
     "output_type": "execute_result"
    }
   ],
   "source": [
    "xlmr.config.label2id"
   ],
   "metadata": {
    "collapsed": false,
    "pycharm": {
     "name": "#%%\n"
    }
   }
  },
  {
   "cell_type": "code",
   "execution_count": 7,
   "outputs": [
    {
     "data": {
      "text/plain": "           id                                            premise  \\\n0  5130fd2cb5  and these comments were considered in formulat...   \n1  5b72532a0b  These are issues that we wrestle with in pract...   \n2  3931fbe82a  Des petites choses comme celles-là font une di...   \n\n                                          hypothesis lang_abv language  label  \n0  The rules developed in the interim were put to...       en  English      2  \n1  Practice groups are not permitted to work on t...       en  English      0  \n2              J'essayais d'accomplir quelque chose.       fr   French      2  ",
      "text/html": "<div>\n<style scoped>\n    .dataframe tbody tr th:only-of-type {\n        vertical-align: middle;\n    }\n\n    .dataframe tbody tr th {\n        vertical-align: top;\n    }\n\n    .dataframe thead th {\n        text-align: right;\n    }\n</style>\n<table border=\"1\" class=\"dataframe\">\n  <thead>\n    <tr style=\"text-align: right;\">\n      <th></th>\n      <th>id</th>\n      <th>premise</th>\n      <th>hypothesis</th>\n      <th>lang_abv</th>\n      <th>language</th>\n      <th>label</th>\n    </tr>\n  </thead>\n  <tbody>\n    <tr>\n      <th>0</th>\n      <td>5130fd2cb5</td>\n      <td>and these comments were considered in formulat...</td>\n      <td>The rules developed in the interim were put to...</td>\n      <td>en</td>\n      <td>English</td>\n      <td>2</td>\n    </tr>\n    <tr>\n      <th>1</th>\n      <td>5b72532a0b</td>\n      <td>These are issues that we wrestle with in pract...</td>\n      <td>Practice groups are not permitted to work on t...</td>\n      <td>en</td>\n      <td>English</td>\n      <td>0</td>\n    </tr>\n    <tr>\n      <th>2</th>\n      <td>3931fbe82a</td>\n      <td>Des petites choses comme celles-là font une di...</td>\n      <td>J'essayais d'accomplir quelque chose.</td>\n      <td>fr</td>\n      <td>French</td>\n      <td>2</td>\n    </tr>\n  </tbody>\n</table>\n</div>"
     },
     "execution_count": 7,
     "metadata": {},
     "output_type": "execute_result"
    }
   ],
   "source": [
    "train_data['label'] = train_data['label'].replace([0, 2], [2, 0])\n",
    "train_data.head(3)"
   ],
   "metadata": {
    "collapsed": false,
    "pycharm": {
     "name": "#%%\n"
    }
   }
  },
  {
   "cell_type": "markdown",
   "source": [
    "# See accuracy with train dataset"
   ],
   "metadata": {
    "collapsed": false
   }
  },
  {
   "cell_type": "code",
   "execution_count": 8,
   "outputs": [
    {
     "data": {
      "text/plain": "<Figure size 720x720 with 1 Axes>",
      "image/png": "[encoded data removed]"
     },
     "metadata": {},
     "output_type": "display_data"
    }
   ],
   "source": [
    "train_data_lang = train_data.groupby('language').count().reset_index()[['language', 'id']]\n",
    "# create a column which tells how many random rows should be extracted for each language\n",
    "train_data_lang['sample_count'] = train_data_lang['id'] / 10\n",
    "\n",
    "# sample data\n",
    "sample_train_data = pd.DataFrame(columns=train_data.columns)\n",
    "for i in range(len(train_data_lang)):\n",
    "    df = train_data[train_data['language'] == train_data_lang['language'][i]]\n",
    "    n = int(train_data_lang['sample_count'][i])\n",
    "    df = df.sample(n).reset_index(drop=True)\n",
    "    sample_train_data = sample_train_data.append(df)\n",
    "    sample_train_data = sample_train_data.reset_index(drop=True)\n",
    "\n",
    "# plot distribution of sample data based on language\n",
    "sample_train_data_lang = sample_train_data.groupby('language').count().reset_index()[['language', 'id']]\n",
    "plt.figure(figsize=(10, 10))\n",
    "plt.pie(sample_train_data_lang['id'], labels=sample_train_data_lang['language'], autopct='%1.1f%%')\n",
    "plt.title('Distribution of Sample Train data based on Language')\n",
    "plt.show()"
   ],
   "metadata": {
    "collapsed": false,
    "pycharm": {
     "name": "#%%\n"
    }
   }
  },
  {
   "cell_type": "code",
   "execution_count": 10,
   "outputs": [],
   "source": [
    "def get_tokens_xlmr_model(data):\n",
    "    \"\"\" Function which creates tokens for the passed data using XLM-R model\n",
    "    input — Dataframe\n",
    "    Output — list of tokens \"\"\"\n",
    "    batch_tokens = []\n",
    "    for i in range(len(data)):\n",
    "        tokens = tokenizer.encode(data['premise'][i], data['hypothesis'][i], return_tensors='pt',\n",
    "                                  truncation='only_first')\n",
    "        batch_tokens.append(tokens)\n",
    "    return batch_tokens"
   ],
   "metadata": {
    "collapsed": false,
    "pycharm": {
     "name": "#%%\n"
    }
   }
  },
  {
   "cell_type": "code",
   "execution_count": 11,
   "outputs": [],
   "source": [
    "def get_predicts_xlmr_model(tokens):\n",
    "    \"\"\" Function which creates predictions for the passed tokens using XLM-R model\n",
    "    input — list of tokens\n",
    "    Output — list of predictions \"\"\"\n",
    "    import time\n",
    "    avg_elapsed = 0\n",
    "    t_total = time.time()\n",
    "    batch_predicts = []\n",
    "    count=0\n",
    "    for i in tokens:\n",
    "        t = time.time()\n",
    "        predict = xlmr(i)[0][0]\n",
    "        predict = int(predict.argmax())\n",
    "        batch_predicts.append(predict)\n",
    "        count+=1\n",
    "        avg_elapsed = (avg_elapsed * (count-1) + (time.time() - t)) / count\n",
    "        if count % 100 == 0:\n",
    "            print(str(count).rjust(6),\"/\",len(tokens))\n",
    "            print(\"avg_elapsed :\",np.round(avg_elapsed,2),\"s. - ETA :\",np.round(avg_elapsed * (len(tokens)-count),2),\"s. - elapsed :\",np.round(time.time()-t_total,2),\"s.\\n\")\n",
    "    return batch_predicts"
   ],
   "metadata": {
    "collapsed": false,
    "pycharm": {
     "name": "#%%\n"
    }
   }
  },
  {
   "cell_type": "code",
   "execution_count": 12,
   "outputs": [
    {
     "name": "stdout",
     "output_type": "stream",
     "text": [
      "   100 / 1208\n",
      "avg_elapsed : 0.29 s. - ETA : 319.68 s. - elapsed : 28.85 s.\n",
      "\n",
      "   200 / 1208\n",
      "avg_elapsed : 0.3 s. - ETA : 299.3 s. - elapsed : 59.39 s.\n",
      "\n",
      "   300 / 1208\n",
      "avg_elapsed : 0.31 s. - ETA : 284.09 s. - elapsed : 93.86 s.\n",
      "\n",
      "   400 / 1208\n",
      "avg_elapsed : 0.31 s. - ETA : 254.26 s. - elapsed : 125.88 s.\n",
      "\n",
      "   500 / 1208\n",
      "avg_elapsed : 0.31 s. - ETA : 217.89 s. - elapsed : 153.89 s.\n",
      "\n",
      "   600 / 1208\n",
      "avg_elapsed : 0.32 s. - ETA : 193.81 s. - elapsed : 191.27 s.\n",
      "\n",
      "   700 / 1208\n",
      "avg_elapsed : 0.32 s. - ETA : 164.2 s. - elapsed : 226.27 s.\n",
      "\n",
      "   800 / 1208\n",
      "avg_elapsed : 0.33 s. - ETA : 132.9 s. - elapsed : 260.6 s.\n",
      "\n",
      "   900 / 1208\n",
      "avg_elapsed : 0.33 s. - ETA : 101.95 s. - elapsed : 297.93 s.\n",
      "\n",
      "  1000 / 1208\n",
      "avg_elapsed : 0.33 s. - ETA : 68.86 s. - elapsed : 331.09 s.\n",
      "\n",
      "  1100 / 1208\n",
      "avg_elapsed : 0.33 s. - ETA : 35.83 s. - elapsed : 364.96 s.\n",
      "\n",
      "  1200 / 1208\n",
      "avg_elapsed : 0.33 s. - ETA : 2.67 s. - elapsed : 401.21 s.\n",
      "\n"
     ]
    }
   ],
   "source": [
    "sample_train_data_tokens = get_tokens_xlmr_model(sample_train_data)\n",
    "sample_train_data_predictions = get_predicts_xlmr_model(sample_train_data_tokens)"
   ],
   "metadata": {
    "collapsed": false,
    "pycharm": {
     "name": "#%%\n"
    }
   }
  },
  {
   "cell_type": "markdown",
   "source": [
    "# Find model accuracy on the predictions"
   ],
   "metadata": {
    "collapsed": false
   }
  },
  {
   "cell_type": "code",
   "execution_count": 13,
   "outputs": [
    {
     "name": "stderr",
     "output_type": "stream",
     "text": [
      "/tmp/ipykernel_180639/3600761344.py:6: FutureWarning: Using a non-tuple sequence for multidimensional indexing is deprecated; use `arr[tuple(seq)]` instead of `arr[seq]`. In the future this will be interpreted as an array index, `arr[np.array(seq)]`, which will result either in an error or a different result.\n",
      "  np.add.at(cm, [x, y], 1)\n"
     ]
    },
    {
     "name": "stdout",
     "output_type": "stream",
     "text": [
      "Classification report : \n",
      "                precision    recall  f1-score   support\n",
      "\n",
      "contradiction       0.94      0.93      0.94       405\n",
      "      neutral       0.90      0.87      0.89       391\n",
      "   entailment       0.91      0.95      0.93       412\n",
      "\n",
      "     accuracy                           0.92      1208\n",
      "    macro avg       0.92      0.92      0.92      1208\n",
      " weighted avg       0.92      0.92      0.92      1208\n",
      "\n"
     ]
    },
    {
     "data": {
      "text/plain": "<Figure size 432x288 with 2 Axes>",
      "image/png": "[encoded data removed]"
     },
     "metadata": {
      "needs_background": "light"
     },
     "output_type": "display_data"
    }
   ],
   "source": [
    "# plot the confusion matrix and classification report for original labels to the predicted labels\n",
    "sample_train_data['label'] = sample_train_data['label'].astype(str).astype(int)\n",
    "x = np.array(sample_train_data['label'])\n",
    "y = np.array(sample_train_data_predictions)\n",
    "cm = np.zeros((3, 3), dtype=int)\n",
    "np.add.at(cm, [x, y], 1)\n",
    "sns.heatmap(cm, cmap=\"YlGnBu\", annot=True, annot_kws={'size': 16}, fmt='g',\n",
    "            xticklabels=['contradiction', 'neutral', 'entailment'],\n",
    "            yticklabels=['contradiction', 'neutral', 'entailment'])\n",
    "matrix = classification_report(x, y, labels=[0, 1, 2], target_names=['contradiction', 'neutral', 'entailment'])\n",
    "print('Classification report : \\n', matrix)"
   ],
   "metadata": {
    "collapsed": false,
    "pycharm": {
     "name": "#%%\n"
    }
   }
  },
  {
   "cell_type": "markdown",
   "source": [
    "# Find model accuracy at language level"
   ],
   "metadata": {
    "collapsed": false
   }
  },
  {
   "cell_type": "code",
   "execution_count": 14,
   "outputs": [
    {
     "data": {
      "text/plain": "      language   id  true_prediction  accuracy\n0       Arabic   40               40      1.00\n1    Bulgarian   34               34      1.00\n4       French   39               39      1.00\n5       German   35               35      1.00\n6        Greek   37               37      1.00\n7        Hindi   37               37      1.00\n9      Spanish   36               36      1.00\n10     Swahili   38               38      1.00\n11        Thai   37               37      1.00\n12     Turkish   35               35      1.00\n13        Urdu   38               38      1.00\n14  Vietnamese   37               37      1.00\n2      Chinese   41               39      0.95\n8      Russian   37               35      0.95\n3      English  687              593      0.86",
      "text/html": "<div>\n<style scoped>\n    .dataframe tbody tr th:only-of-type {\n        vertical-align: middle;\n    }\n\n    .dataframe tbody tr th {\n        vertical-align: top;\n    }\n\n    .dataframe thead th {\n        text-align: right;\n    }\n</style>\n<table border=\"1\" class=\"dataframe\">\n  <thead>\n    <tr style=\"text-align: right;\">\n      <th></th>\n      <th>language</th>\n      <th>id</th>\n      <th>true_prediction</th>\n      <th>accuracy</th>\n    </tr>\n  </thead>\n  <tbody>\n    <tr>\n      <th>0</th>\n      <td>Arabic</td>\n      <td>40</td>\n      <td>40</td>\n      <td>1.00</td>\n    </tr>\n    <tr>\n      <th>1</th>\n      <td>Bulgarian</td>\n      <td>34</td>\n      <td>34</td>\n      <td>1.00</td>\n    </tr>\n    <tr>\n      <th>4</th>\n      <td>French</td>\n      <td>39</td>\n      <td>39</td>\n      <td>1.00</td>\n    </tr>\n    <tr>\n      <th>5</th>\n      <td>German</td>\n      <td>35</td>\n      <td>35</td>\n      <td>1.00</td>\n    </tr>\n    <tr>\n      <th>6</th>\n      <td>Greek</td>\n      <td>37</td>\n      <td>37</td>\n      <td>1.00</td>\n    </tr>\n    <tr>\n      <th>7</th>\n      <td>Hindi</td>\n      <td>37</td>\n      <td>37</td>\n      <td>1.00</td>\n    </tr>\n    <tr>\n      <th>9</th>\n      <td>Spanish</td>\n      <td>36</td>\n      <td>36</td>\n      <td>1.00</td>\n    </tr>\n    <tr>\n      <th>10</th>\n      <td>Swahili</td>\n      <td>38</td>\n      <td>38</td>\n      <td>1.00</td>\n    </tr>\n    <tr>\n      <th>11</th>\n      <td>Thai</td>\n      <td>37</td>\n      <td>37</td>\n      <td>1.00</td>\n    </tr>\n    <tr>\n      <th>12</th>\n      <td>Turkish</td>\n      <td>35</td>\n      <td>35</td>\n      <td>1.00</td>\n    </tr>\n    <tr>\n      <th>13</th>\n      <td>Urdu</td>\n      <td>38</td>\n      <td>38</td>\n      <td>1.00</td>\n    </tr>\n    <tr>\n      <th>14</th>\n      <td>Vietnamese</td>\n      <td>37</td>\n      <td>37</td>\n      <td>1.00</td>\n    </tr>\n    <tr>\n      <th>2</th>\n      <td>Chinese</td>\n      <td>41</td>\n      <td>39</td>\n      <td>0.95</td>\n    </tr>\n    <tr>\n      <th>8</th>\n      <td>Russian</td>\n      <td>37</td>\n      <td>35</td>\n      <td>0.95</td>\n    </tr>\n    <tr>\n      <th>3</th>\n      <td>English</td>\n      <td>687</td>\n      <td>593</td>\n      <td>0.86</td>\n    </tr>\n  </tbody>\n</table>\n</div>"
     },
     "execution_count": 14,
     "metadata": {},
     "output_type": "execute_result"
    }
   ],
   "source": [
    "sample_train_data['prediction'] = sample_train_data_predictions\n",
    "sample_train_data['true_prediction'] = np.where(sample_train_data['label']==sample_train_data['prediction'], 1, 0)\n",
    "sample_train_data_predicted_lang = sample_train_data.groupby('language').agg({'id':'count', 'true_prediction':'sum'}).reset_index()[['language','id','true_prediction']]\n",
    "sample_train_data_predicted_lang['accuracy'] = round(sample_train_data_predicted_lang['true_prediction']/sample_train_data_predicted_lang['id'], 2)\n",
    "sample_train_data_predicted_lang = sample_train_data_predicted_lang.sort_values(by=['accuracy'],ascending=False)\n",
    "sample_train_data_predicted_lang"
   ],
   "metadata": {
    "collapsed": false,
    "pycharm": {
     "name": "#%%\n"
    }
   }
  },
  {
   "cell_type": "markdown",
   "source": [
    "# Predict"
   ],
   "metadata": {
    "collapsed": false
   }
  },
  {
   "cell_type": "code",
   "execution_count": 15,
   "outputs": [],
   "source": [
    "test_data[\"token\"] = get_tokens_xlmr_model(test_data)"
   ],
   "metadata": {
    "collapsed": false,
    "pycharm": {
     "name": "#%%\n"
    }
   }
  },
  {
   "cell_type": "code",
   "execution_count": 16,
   "outputs": [
    {
     "name": "stdout",
     "output_type": "stream",
     "text": [
      "   100 / 5195\n",
      "avg_elapsed : 0.3 s. - ETA : 1511.01 s. - elapsed : 29.66 s.\n",
      "\n",
      "   200 / 5195\n",
      "avg_elapsed : 0.28 s. - ETA : 1373.88 s. - elapsed : 55.01 s.\n",
      "\n",
      "   300 / 5195\n",
      "avg_elapsed : 0.26 s. - ETA : 1259.37 s. - elapsed : 77.19 s.\n",
      "\n",
      "   400 / 5195\n",
      "avg_elapsed : 0.24 s. - ETA : 1173.41 s. - elapsed : 97.89 s.\n",
      "\n",
      "   500 / 5195\n",
      "avg_elapsed : 0.24 s. - ETA : 1125.68 s. - elapsed : 119.88 s.\n",
      "\n",
      "   600 / 5195\n",
      "avg_elapsed : 0.24 s. - ETA : 1100.04 s. - elapsed : 143.64 s.\n",
      "\n",
      "   700 / 5195\n",
      "avg_elapsed : 0.24 s. - ETA : 1061.1 s. - elapsed : 165.25 s.\n",
      "\n",
      "   800 / 5195\n",
      "avg_elapsed : 0.23 s. - ETA : 1023.13 s. - elapsed : 186.24 s.\n",
      "\n",
      "   900 / 5195\n",
      "avg_elapsed : 0.23 s. - ETA : 992.13 s. - elapsed : 207.9 s.\n",
      "\n",
      "  1000 / 5195\n",
      "avg_elapsed : 0.23 s. - ETA : 958.67 s. - elapsed : 228.54 s.\n",
      "\n",
      "  1100 / 5195\n",
      "avg_elapsed : 0.23 s. - ETA : 930.12 s. - elapsed : 249.86 s.\n",
      "\n",
      "  1200 / 5195\n",
      "avg_elapsed : 0.23 s. - ETA : 903.31 s. - elapsed : 271.34 s.\n",
      "\n",
      "  1300 / 5195\n",
      "avg_elapsed : 0.23 s. - ETA : 883.69 s. - elapsed : 294.95 s.\n",
      "\n",
      "  1400 / 5195\n",
      "avg_elapsed : 0.23 s. - ETA : 860.49 s. - elapsed : 317.46 s.\n",
      "\n",
      "  1500 / 5195\n",
      "avg_elapsed : 0.23 s. - ETA : 834.24 s. - elapsed : 338.68 s.\n",
      "\n",
      "  1600 / 5195\n",
      "avg_elapsed : 0.23 s. - ETA : 814.01 s. - elapsed : 362.3 s.\n",
      "\n",
      "  1700 / 5195\n",
      "avg_elapsed : 0.23 s. - ETA : 794.72 s. - elapsed : 386.58 s.\n",
      "\n",
      "  1800 / 5195\n",
      "avg_elapsed : 0.23 s. - ETA : 778.35 s. - elapsed : 412.69 s.\n",
      "\n",
      "  1900 / 5195\n",
      "avg_elapsed : 0.23 s. - ETA : 760.04 s. - elapsed : 438.28 s.\n",
      "\n",
      "  2000 / 5195\n",
      "avg_elapsed : 0.23 s. - ETA : 738.36 s. - elapsed : 462.22 s.\n",
      "\n",
      "  2100 / 5195\n",
      "avg_elapsed : 0.23 s. - ETA : 715.25 s. - elapsed : 485.33 s.\n",
      "\n",
      "  2200 / 5195\n",
      "avg_elapsed : 0.23 s. - ETA : 696.12 s. - elapsed : 511.36 s.\n",
      "\n",
      "  2300 / 5195\n",
      "avg_elapsed : 0.23 s. - ETA : 674.02 s. - elapsed : 535.51 s.\n",
      "\n",
      "  2400 / 5195\n",
      "avg_elapsed : 0.23 s. - ETA : 648.16 s. - elapsed : 556.58 s.\n",
      "\n",
      "  2500 / 5195\n",
      "avg_elapsed : 0.23 s. - ETA : 627.67 s. - elapsed : 582.27 s.\n",
      "\n",
      "  2600 / 5195\n",
      "avg_elapsed : 0.23 s. - ETA : 606.72 s. - elapsed : 607.92 s.\n",
      "\n",
      "  2700 / 5195\n",
      "avg_elapsed : 0.23 s. - ETA : 585.26 s. - elapsed : 633.38 s.\n",
      "\n",
      "  2800 / 5195\n",
      "avg_elapsed : 0.23 s. - ETA : 562.55 s. - elapsed : 657.71 s.\n",
      "\n",
      "  2900 / 5195\n",
      "avg_elapsed : 0.23 s. - ETA : 538.93 s. - elapsed : 681.03 s.\n",
      "\n",
      "  3000 / 5195\n",
      "avg_elapsed : 0.23 s. - ETA : 514.57 s. - elapsed : 703.31 s.\n",
      "\n",
      "  3100 / 5195\n",
      "avg_elapsed : 0.23 s. - ETA : 491.69 s. - elapsed : 727.59 s.\n",
      "\n",
      "  3200 / 5195\n",
      "avg_elapsed : 0.23 s. - ETA : 468.61 s. - elapsed : 751.69 s.\n",
      "\n",
      "  3300 / 5195\n",
      "avg_elapsed : 0.24 s. - ETA : 446.0 s. - elapsed : 776.71 s.\n",
      "\n",
      "  3400 / 5195\n",
      "avg_elapsed : 0.23 s. - ETA : 421.81 s. - elapsed : 799.01 s.\n",
      "\n",
      "  3500 / 5195\n",
      "avg_elapsed : 0.24 s. - ETA : 399.17 s. - elapsed : 824.28 s.\n",
      "\n",
      "  3600 / 5195\n",
      "avg_elapsed : 0.24 s. - ETA : 375.15 s. - elapsed : 846.77 s.\n",
      "\n",
      "  3700 / 5195\n",
      "avg_elapsed : 0.23 s. - ETA : 350.76 s. - elapsed : 868.13 s.\n",
      "\n",
      "  3800 / 5195\n",
      "avg_elapsed : 0.23 s. - ETA : 326.74 s. - elapsed : 890.07 s.\n",
      "\n",
      "  3900 / 5195\n",
      "avg_elapsed : 0.23 s. - ETA : 302.5 s. - elapsed : 911.04 s.\n",
      "\n",
      "  4000 / 5195\n",
      "avg_elapsed : 0.23 s. - ETA : 278.96 s. - elapsed : 933.79 s.\n",
      "\n",
      "  4100 / 5195\n",
      "avg_elapsed : 0.23 s. - ETA : 255.0 s. - elapsed : 954.85 s.\n",
      "\n",
      "  4200 / 5195\n",
      "avg_elapsed : 0.23 s. - ETA : 231.45 s. - elapsed : 977.03 s.\n",
      "\n",
      "  4300 / 5195\n",
      "avg_elapsed : 0.23 s. - ETA : 207.62 s. - elapsed : 997.52 s.\n",
      "\n",
      "  4400 / 5195\n",
      "avg_elapsed : 0.23 s. - ETA : 184.05 s. - elapsed : 1018.66 s.\n",
      "\n",
      "  4500 / 5195\n",
      "avg_elapsed : 0.23 s. - ETA : 160.67 s. - elapsed : 1040.38 s.\n",
      "\n",
      "  4600 / 5195\n",
      "avg_elapsed : 0.23 s. - ETA : 137.5 s. - elapsed : 1063.06 s.\n",
      "\n",
      "  4700 / 5195\n",
      "avg_elapsed : 0.23 s. - ETA : 114.61 s. - elapsed : 1088.3 s.\n",
      "\n",
      "  4800 / 5195\n",
      "avg_elapsed : 0.23 s. - ETA : 91.35 s. - elapsed : 1110.15 s.\n",
      "\n",
      "  4900 / 5195\n",
      "avg_elapsed : 0.23 s. - ETA : 68.33 s. - elapsed : 1134.95 s.\n",
      "\n",
      "  5000 / 5195\n",
      "avg_elapsed : 0.23 s. - ETA : 45.19 s. - elapsed : 1158.72 s.\n",
      "\n",
      "  5100 / 5195\n",
      "avg_elapsed : 0.23 s. - ETA : 21.98 s. - elapsed : 1180.26 s.\n",
      "\n"
     ]
    }
   ],
   "source": [
    "test_data[\"prediction\"] = get_predicts_xlmr_model(test_data[\"token\"])"
   ],
   "metadata": {
    "collapsed": false,
    "pycharm": {
     "name": "#%%\n"
    }
   }
  },
  {
   "cell_type": "code",
   "execution_count": 17,
   "outputs": [
    {
     "data": {
      "text/plain": "           id                                            premise  \\\n0  c6d58c3f69  بکس، کیسی، راہیل، یسعیاہ، کیلی، کیلی، اور کولم...   \n1  cefcc82292                             هذا هو ما تم نصحنا به.   \n2  e98005252c  et cela est en grande partie dû au fait que le...   \n3  58518c10ba                   与城市及其他公民及社区组织代表就IMA的艺术发展进行对话&amp   \n4  c32b0d16df                              Она все еще была там.   \n\n                                          hypothesis lang_abv language  \\\n0  کیسی کے لئے کوئی یادگار نہیں ہوگا, کولمین ہائی...       ur     Urdu   \n1  عندما يتم إخبارهم بما يجب عليهم فعله ، فشلت ال...       ar   Arabic   \n2                             Les mères se droguent.       fr   French   \n3                            IMA与其他组织合作，因为它们都依靠共享资金。       zh  Chinese   \n4     Мы думали, что она ушла, однако, она осталась.       ru  Russian   \n\n                                               token  prediction  \n0  [[tensor(0), tensor(676), tensor(20658), tenso...           0  \n1  [[tensor(0), tensor(2433), tensor(1638), tenso...           1  \n2  [[tensor(0), tensor(82), tensor(10804), tensor...           2  \n3  [[tensor(0), tensor(6), tensor(1189), tensor(7...           1  \n4  [[tensor(0), tensor(12786), tensor(1203), tens...           1  ",
      "text/html": "<div>\n<style scoped>\n    .dataframe tbody tr th:only-of-type {\n        vertical-align: middle;\n    }\n\n    .dataframe tbody tr th {\n        vertical-align: top;\n    }\n\n    .dataframe thead th {\n        text-align: right;\n    }\n</style>\n<table border=\"1\" class=\"dataframe\">\n  <thead>\n    <tr style=\"text-align: right;\">\n      <th></th>\n      <th>id</th>\n      <th>premise</th>\n      <th>hypothesis</th>\n      <th>lang_abv</th>\n      <th>language</th>\n      <th>token</th>\n      <th>prediction</th>\n    </tr>\n  </thead>\n  <tbody>\n    <tr>\n      <th>0</th>\n      <td>c6d58c3f69</td>\n      <td>بکس، کیسی، راہیل، یسعیاہ، کیلی، کیلی، اور کولم...</td>\n      <td>کیسی کے لئے کوئی یادگار نہیں ہوگا, کولمین ہائی...</td>\n      <td>ur</td>\n      <td>Urdu</td>\n      <td>[[tensor(0), tensor(676), tensor(20658), tenso...</td>\n      <td>0</td>\n    </tr>\n    <tr>\n      <th>1</th>\n      <td>cefcc82292</td>\n      <td>هذا هو ما تم نصحنا به.</td>\n      <td>عندما يتم إخبارهم بما يجب عليهم فعله ، فشلت ال...</td>\n      <td>ar</td>\n      <td>Arabic</td>\n      <td>[[tensor(0), tensor(2433), tensor(1638), tenso...</td>\n      <td>1</td>\n    </tr>\n    <tr>\n      <th>2</th>\n      <td>e98005252c</td>\n      <td>et cela est en grande partie dû au fait que le...</td>\n      <td>Les mères se droguent.</td>\n      <td>fr</td>\n      <td>French</td>\n      <td>[[tensor(0), tensor(82), tensor(10804), tensor...</td>\n      <td>2</td>\n    </tr>\n    <tr>\n      <th>3</th>\n      <td>58518c10ba</td>\n      <td>与城市及其他公民及社区组织代表就IMA的艺术发展进行对话&amp;amp</td>\n      <td>IMA与其他组织合作，因为它们都依靠共享资金。</td>\n      <td>zh</td>\n      <td>Chinese</td>\n      <td>[[tensor(0), tensor(6), tensor(1189), tensor(7...</td>\n      <td>1</td>\n    </tr>\n    <tr>\n      <th>4</th>\n      <td>c32b0d16df</td>\n      <td>Она все еще была там.</td>\n      <td>Мы думали, что она ушла, однако, она осталась.</td>\n      <td>ru</td>\n      <td>Russian</td>\n      <td>[[tensor(0), tensor(12786), tensor(1203), tens...</td>\n      <td>1</td>\n    </tr>\n  </tbody>\n</table>\n</div>"
     },
     "execution_count": 17,
     "metadata": {},
     "output_type": "execute_result"
    }
   ],
   "source": [
    "test_data.head()"
   ],
   "metadata": {
    "collapsed": false,
    "pycharm": {
     "name": "#%%\n"
    }
   }
  },
  {
   "cell_type": "markdown",
   "source": [
    "# match model labels and dataset labels"
   ],
   "metadata": {
    "collapsed": false
   }
  },
  {
   "cell_type": "code",
   "execution_count": 18,
   "outputs": [],
   "source": [
    "test_data['prediction'] = test_data['prediction'].replace([0, 2], [2, 0])"
   ],
   "metadata": {
    "collapsed": false,
    "pycharm": {
     "name": "#%%\n"
    }
   }
  },
  {
   "cell_type": "code",
   "execution_count": 19,
   "outputs": [
    {
     "data": {
      "text/plain": "           id                                            premise  \\\n0  c6d58c3f69  بکس، کیسی، راہیل، یسعیاہ، کیلی، کیلی، اور کولم...   \n1  cefcc82292                             هذا هو ما تم نصحنا به.   \n2  e98005252c  et cela est en grande partie dû au fait que le...   \n3  58518c10ba                   与城市及其他公民及社区组织代表就IMA的艺术发展进行对话&amp   \n4  c32b0d16df                              Она все еще была там.   \n\n                                          hypothesis lang_abv language  \\\n0  کیسی کے لئے کوئی یادگار نہیں ہوگا, کولمین ہائی...       ur     Urdu   \n1  عندما يتم إخبارهم بما يجب عليهم فعله ، فشلت ال...       ar   Arabic   \n2                             Les mères se droguent.       fr   French   \n3                            IMA与其他组织合作，因为它们都依靠共享资金。       zh  Chinese   \n4     Мы думали, что она ушла, однако, она осталась.       ru  Russian   \n\n                                               token  prediction  \n0  [[tensor(0), tensor(676), tensor(20658), tenso...           2  \n1  [[tensor(0), tensor(2433), tensor(1638), tenso...           1  \n2  [[tensor(0), tensor(82), tensor(10804), tensor...           0  \n3  [[tensor(0), tensor(6), tensor(1189), tensor(7...           1  \n4  [[tensor(0), tensor(12786), tensor(1203), tens...           1  ",
      "text/html": "<div>\n<style scoped>\n    .dataframe tbody tr th:only-of-type {\n        vertical-align: middle;\n    }\n\n    .dataframe tbody tr th {\n        vertical-align: top;\n    }\n\n    .dataframe thead th {\n        text-align: right;\n    }\n</style>\n<table border=\"1\" class=\"dataframe\">\n  <thead>\n    <tr style=\"text-align: right;\">\n      <th></th>\n      <th>id</th>\n      <th>premise</th>\n      <th>hypothesis</th>\n      <th>lang_abv</th>\n      <th>language</th>\n      <th>token</th>\n      <th>prediction</th>\n    </tr>\n  </thead>\n  <tbody>\n    <tr>\n      <th>0</th>\n      <td>c6d58c3f69</td>\n      <td>بکس، کیسی، راہیل، یسعیاہ، کیلی، کیلی، اور کولم...</td>\n      <td>کیسی کے لئے کوئی یادگار نہیں ہوگا, کولمین ہائی...</td>\n      <td>ur</td>\n      <td>Urdu</td>\n      <td>[[tensor(0), tensor(676), tensor(20658), tenso...</td>\n      <td>2</td>\n    </tr>\n    <tr>\n      <th>1</th>\n      <td>cefcc82292</td>\n      <td>هذا هو ما تم نصحنا به.</td>\n      <td>عندما يتم إخبارهم بما يجب عليهم فعله ، فشلت ال...</td>\n      <td>ar</td>\n      <td>Arabic</td>\n      <td>[[tensor(0), tensor(2433), tensor(1638), tenso...</td>\n      <td>1</td>\n    </tr>\n    <tr>\n      <th>2</th>\n      <td>e98005252c</td>\n      <td>et cela est en grande partie dû au fait que le...</td>\n      <td>Les mères se droguent.</td>\n      <td>fr</td>\n      <td>French</td>\n      <td>[[tensor(0), tensor(82), tensor(10804), tensor...</td>\n      <td>0</td>\n    </tr>\n    <tr>\n      <th>3</th>\n      <td>58518c10ba</td>\n      <td>与城市及其他公民及社区组织代表就IMA的艺术发展进行对话&amp;amp</td>\n      <td>IMA与其他组织合作，因为它们都依靠共享资金。</td>\n      <td>zh</td>\n      <td>Chinese</td>\n      <td>[[tensor(0), tensor(6), tensor(1189), tensor(7...</td>\n      <td>1</td>\n    </tr>\n    <tr>\n      <th>4</th>\n      <td>c32b0d16df</td>\n      <td>Она все еще была там.</td>\n      <td>Мы думали, что она ушла, однако, она осталась.</td>\n      <td>ru</td>\n      <td>Russian</td>\n      <td>[[tensor(0), tensor(12786), tensor(1203), tens...</td>\n      <td>1</td>\n    </tr>\n  </tbody>\n</table>\n</div>"
     },
     "execution_count": 19,
     "metadata": {},
     "output_type": "execute_result"
    }
   ],
   "source": [
    "test_data.head()"
   ],
   "metadata": {
    "collapsed": false,
    "pycharm": {
     "name": "#%%\n"
    }
   }
  },
  {
   "cell_type": "code",
   "execution_count": 20,
   "outputs": [],
   "source": [
    "submission = test_data[[\"id\",\"prediction\"]]"
   ],
   "metadata": {
    "collapsed": false,
    "pycharm": {
     "name": "#%%\n"
    }
   }
  },
  {
   "cell_type": "code",
   "execution_count": 21,
   "outputs": [
    {
     "data": {
      "text/plain": "           id  prediction\n0  c6d58c3f69           2\n1  cefcc82292           1\n2  e98005252c           0\n3  58518c10ba           1\n4  c32b0d16df           1",
      "text/html": "<div>\n<style scoped>\n    .dataframe tbody tr th:only-of-type {\n        vertical-align: middle;\n    }\n\n    .dataframe tbody tr th {\n        vertical-align: top;\n    }\n\n    .dataframe thead th {\n        text-align: right;\n    }\n</style>\n<table border=\"1\" class=\"dataframe\">\n  <thead>\n    <tr style=\"text-align: right;\">\n      <th></th>\n      <th>id</th>\n      <th>prediction</th>\n    </tr>\n  </thead>\n  <tbody>\n    <tr>\n      <th>0</th>\n      <td>c6d58c3f69</td>\n      <td>2</td>\n    </tr>\n    <tr>\n      <th>1</th>\n      <td>cefcc82292</td>\n      <td>1</td>\n    </tr>\n    <tr>\n      <th>2</th>\n      <td>e98005252c</td>\n      <td>0</td>\n    </tr>\n    <tr>\n      <th>3</th>\n      <td>58518c10ba</td>\n      <td>1</td>\n    </tr>\n    <tr>\n      <th>4</th>\n      <td>c32b0d16df</td>\n      <td>1</td>\n    </tr>\n  </tbody>\n</table>\n</div>"
     },
     "execution_count": 21,
     "metadata": {},
     "output_type": "execute_result"
    }
   ],
   "source": [
    "submission.head()"
   ],
   "metadata": {
    "collapsed": false,
    "pycharm": {
     "name": "#%%\n"
    }
   }
  },
  {
   "cell_type": "code",
   "execution_count": 22,
   "outputs": [],
   "source": [
    "submission.to_csv(\"submission_xlm-r.csv\",index=False)"
   ],
   "metadata": {
    "collapsed": false,
    "pycharm": {
     "name": "#%%\n"
    }
   }
  }
 ],
 "metadata": {
  "kernelspec": {
   "display_name": "Python 3",
   "language": "python",
   "name": "python3"
  },
  "language_info": {
   "codemirror_mode": {
    "name": "ipython",
    "version": 2
   },
   "file_extension": ".py",
   "mimetype": "text/x-python",
   "name": "python",
   "nbconvert_exporter": "python",
   "pygments_lexer": "ipython2",
   "version": "2.7.6"
  }
 },
 "nbformat": 4,
 "nbformat_minor": 0
}