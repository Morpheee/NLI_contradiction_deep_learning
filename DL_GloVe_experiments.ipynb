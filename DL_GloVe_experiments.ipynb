{
  "nbformat": 4,
  "nbformat_minor": 0,
  "metadata": {
    "colab": {
      "name": "DL_GloVe_experiments.ipynb",
      "provenance": []
    },
    "kernelspec": {
      "name": "python3",
      "display_name": "Python 3"
    },
    "language_info": {
      "name": "python"
    }
  },
  "cells": [
    {
      "cell_type": "code",
      "execution_count": 1,
      "metadata": {
        "id": "AvjOuNQCyccx"
      },
      "outputs": [],
      "source": [
        "import os\n",
        "import sys\n",
        "import numpy as np\n",
        "import pandas as pd\n",
        "import matplotlib.pyplot as plt\n",
        "from keras.preprocessing.sequence import pad_sequences\n",
        "from keras.layers import Dense, Input, GlobalMaxPooling1D\n",
        "from keras.layers import Conv1D, MaxPooling1D, Embedding\n",
        "from keras.models import Model\n",
        "from sklearn.metrics import accuracy_score\n",
        "from sklearn.model_selection import train_test_split\n",
        "import tensorflow as tf\n",
        "from keras.models import Sequential\n",
        "from keras.layers import LSTM,Dense,Dropout,Embedding,CuDNNLSTM,Bidirectional, Reshape, Conv2D, MaxPool2D, Concatenate, Flatten, MaxPool1D\n",
        "from keras.preprocessing.text import Tokenizer\n",
        "from keras.preprocessing.sequence import pad_sequences\n",
        "from tqdm import tqdm\n",
        "import matplotlib.pyplot as plt\n",
        "import seaborn as sns\n",
        "import nltk\n",
        "from nltk.stem import PorterStemmer,WordNetLemmatizer\n",
        "from nltk.tokenize import word_tokenize\n"
      ]
    },
    {
      "cell_type": "code",
      "source": [
        "from google.colab import drive\n",
        "drive.mount('/content/drive')\n",
        "nltk.download('punkt')\n",
        "nltk.download('wordnet')"
      ],
      "metadata": {
        "id": "uQpfPAseyidz",
        "colab": {
          "base_uri": "https://localhost:8080/"
        },
        "outputId": "28c14621-9468-40e9-9b19-0e5240e19ae8"
      },
      "execution_count": 2,
      "outputs": [
        {
          "output_type": "stream",
          "name": "stdout",
          "text": [
            "Drive already mounted at /content/drive; to attempt to forcibly remount, call drive.mount(\"/content/drive\", force_remount=True).\n",
            "[nltk_data] Downloading package punkt to /root/nltk_data...\n",
            "[nltk_data]   Package punkt is already up-to-date!\n",
            "[nltk_data] Downloading package wordnet to /root/nltk_data...\n",
            "[nltk_data]   Package wordnet is already up-to-date!\n"
          ]
        },
        {
          "output_type": "execute_result",
          "data": {
            "text/plain": [
              "True"
            ]
          },
          "metadata": {},
          "execution_count": 2
        }
      ]
    },
    {
      "cell_type": "markdown",
      "source": [
        "# Preprocessing (stemming, lemmatizing)"
      ],
      "metadata": {
        "id": "cBth4spdyppg"
      }
    },
    {
      "cell_type": "code",
      "source": [
        "def preprocess_data(data, type='stem'):\n",
        "  premises = []\n",
        "  hypothesis = []\n",
        "\n",
        "  if type == 'stem':\n",
        "    word_stemmer = PorterStemmer()\n",
        "\n",
        "\n",
        "    for sentence in data['premise']:\n",
        "      tokenized_sentence = word_tokenize(sentence)\n",
        "      words = []\n",
        "      for word in tokenized_sentence:\n",
        "        words.append(word_stemmer.stem(word))\n",
        "      premises.append(' '.join(str(x) for x in words))\n",
        "\n",
        "    for sentence in data['hypothesis']:\n",
        "      tokenized_sentence = word_tokenize(sentence)\n",
        "      words = []\n",
        "      for word in tokenized_sentence:\n",
        "        words.append(word_stemmer.stem(word))\n",
        "      hypothesis.append(' '.join(str(x) for x in words))\n",
        "  \n",
        "  else : # lemmatize\n",
        "    \n",
        "    lemmatizer = WordNetLemmatizer()\n",
        "\n",
        "    for sentence in data['premise']:\n",
        "      tokenized_sentence = word_tokenize(sentence)\n",
        "      words = []\n",
        "      for word in tokenized_sentence:\n",
        "        words.append(lemmatizer.lemmatize(word.lower()))\n",
        "      premises.append(' '.join(str(x) for x in words))\n",
        "\n",
        "    for sentence in data['hypothesis']:\n",
        "      tokenized_sentence = word_tokenize(sentence)\n",
        "      words = []\n",
        "      for word in tokenized_sentence:\n",
        "        words.append(lemmatizer.lemmatize(word.lower()))\n",
        "      hypothesis.append(' '.join(str(x) for x in words))\n",
        "\n",
        "  data['hypothesis'] = hypothesis\n",
        "  data['premise'] = premises\n",
        "  return data"
      ],
      "metadata": {
        "id": "9A7lYN2Myknj"
      },
      "execution_count": 3,
      "outputs": []
    },
    {
      "cell_type": "markdown",
      "source": [
        "# Data preparation\n"
      ],
      "metadata": {
        "id": "Hoh3E9SVyyuQ"
      }
    },
    {
      "cell_type": "code",
      "source": [
        "\n",
        "def label_to_one_hot(label):\n",
        "  one_hot = [0, 0, 0]\n",
        "  one_hot[label] = 1\n",
        "  return one_hot\n",
        "\n",
        "def prepare_data(data, preprocess=True):\n",
        "  data = data[data['language']=='English']\n",
        "  del data['language']\n",
        "  del data['id']\n",
        "  del data['lang_abv']\n",
        "\n",
        "  if preprocess:\n",
        "    data = preprocess_data(data, type='lemmatize')\n",
        "\n",
        "  data['prem_hyp'] = data[['premise', 'hypothesis']].apply(lambda x: ' [SEP] '.join(x), axis=1)\n",
        "\n",
        "  data['label_0'] = np.where(data['label']==0, 1, 0)\n",
        "  data['label_1'] = np.where(data['label']==1, 1, 0)\n",
        "  data['label_2'] = np.where(data['label']==2, 1, 0)\n",
        "\n",
        "  x_train, x_test, _, y_test = train_test_split(data[['prem_hyp', 'label_0', 'label_1', 'label_2']], data['label'], test_size=0.3, random_state=42)\n",
        "\n",
        "  possible_labels = ['label_0', 'label_1', 'label_2']\n",
        "  targets_train = x_train[possible_labels].values\n",
        "\n",
        "  \"\"\"data[\"yhot\"] = data[\"label\"].apply(label_to_one_hot)\n",
        "  y_train = np.zeros(shape=(len(data), 3))\n",
        "  for i in range(len(data)):\n",
        "      y_train[i] = data[\"yhot\"].values[i]\n",
        "  y_train = y_train.astype(int)\"\"\"\n",
        "  \n",
        "  return x_train, x_test, targets_train, y_test, data\n",
        "\n",
        "def tokenize_x(x_train, x_test, modified_data, size_vector=300):\n",
        "  token = Tokenizer()\n",
        "  premise_hypothesis = modified_data['prem_hyp'].values\n",
        "  token.fit_on_texts(premise_hypothesis)\n",
        "\n",
        "  premise_hypothesis_train = x_train['prem_hyp'].values\n",
        "  sequences_train = token.texts_to_sequences(premise_hypothesis_train)\n",
        "  padding_train = pad_sequences(sequences_train,maxlen=size_vector)\n",
        "\n",
        "  premise_hypothesis_test = x_test['prem_hyp'].values\n",
        "  sequences_test = token.texts_to_sequences(premise_hypothesis_test)\n",
        "  padding_test = pad_sequences(sequences_test,maxlen=size_vector)\n",
        "\n",
        "  vocabulary_size = len(token.word_index)+1\n",
        "\n",
        "  return token, padding_train, padding_test, vocabulary_size\n",
        "\n",
        "def get_embedding_matrix(token, path_glove, vocabulary_size, embedding_dim = 300):\n",
        "  embedding_vector = {}\n",
        "  \n",
        "  # get dictionnary from GloVe\n",
        "  f = open (os.path.join(path_glove % embedding_dim))\n",
        "  for line in tqdm(f):\n",
        "      value = line.split(' ')\n",
        "      word = value[0]\n",
        "      coefficient = np.array(value[1:],dtype = 'float32')\n",
        "      embedding_vector[word] = coefficient\n",
        "  \n",
        "  embedding_matrix = np.zeros((vocabulary_size,300))\n",
        "  for word,i in tqdm(token.word_index.items()):\n",
        "      embedding_value = embedding_vector.get(word)\n",
        "      if embedding_value is not None:\n",
        "          embedding_matrix[i] = embedding_value\n",
        "  return embedding_matrix"
      ],
      "metadata": {
        "id": "54W_7nnPy0hI"
      },
      "execution_count": 4,
      "outputs": []
    },
    {
      "cell_type": "markdown",
      "source": [
        "# Models"
      ],
      "metadata": {
        "id": "uwbiS1rdy4kb"
      }
    },
    {
      "cell_type": "markdown",
      "source": [
        "## CNN\n"
      ],
      "metadata": {
        "id": "0rNZ2UGqy8fi"
      }
    },
    {
      "cell_type": "code",
      "source": [
        "# Code adapted from https://www.kaggle.com/au1206/text-classification-using-cnn\n",
        "\n",
        "def cnn_1(vocabulary_size,embedding_matrix,embedding_dim=300, size_vector=300, metric='accuracy'):\n",
        "  filter_sizes = [5,50,3]\n",
        "  num_filters = 10\n",
        "  drop = 0.9\n",
        "  batch_size = 15\n",
        "  epochs = 2\n",
        "\n",
        "  embedding_layer = Embedding(vocabulary_size,embedding_dim,weights = [embedding_matrix],input_length=size_vector,trainable = False)\n",
        "  inputs = Input(shape=(300,1), dtype='int32')\n",
        "  embedding = embedding_layer(inputs)\n",
        "  reshape = Reshape((300,embedding_dim))(embedding)\n",
        "\n",
        "  conv = Conv1D(num_filters, kernel_size=filter_sizes[0], padding='valid', kernel_initializer='normal', activation='relu')(reshape)\n",
        "  # conv_1 = Conv1D(num_filters, kernel_size=filter_sizes[1], padding='valid', kernel_initializer='normal', activation='relu')(reshape)\n",
        "  # conv_2 = Conv1D(num_filters, kernel_size=filter_sizes[2], padding='valid', kernel_initializer='normal', activation='relu')(reshape)\n",
        "\n",
        "  maxpool = MaxPool1D(pool_size=(300 - filter_sizes[0] + 1), padding='valid')(conv)\n",
        "  # maxpool_1 = MaxPool1D(pool_size=(300 - filter_sizes[1] + 1), padding='valid')(conv_1)\n",
        "  # maxpool_2 = MaxPool1D(pool_size=(300 - filter_sizes[2] + 1), padding='valid')(conv_2)\n",
        "\n",
        "  # concatenated_tensor = Concatenate(axis=1)([maxpool_0, maxpool_1, maxpool_2])\n",
        "  flatten = Flatten()(maxpool)\n",
        "  dropout = Dropout(drop)(flatten)\n",
        "  output = Dense(units=3, activation='softmax')(dropout)\n",
        "  model = Model(inputs=inputs, outputs=output)\n",
        "  model.compile(optimizer='adam', loss='categorical_crossentropy', metrics=[metric])\n",
        "  return model"
      ],
      "metadata": {
        "id": "fffghmVlzDrt"
      },
      "execution_count": 5,
      "outputs": []
    },
    {
      "cell_type": "code",
      "source": [
        "def cnn_2(vocabulary_size,embedding_matrix,embedding_dim=300, metric='accuracy'):\n",
        "  filter_sizes = [3,4,5]\n",
        "\n",
        "  num_filters = 10\n",
        "  drop = 0.9\n",
        "  batch_size = 150\n",
        "  epochs = 2\n",
        "\n",
        "  embedding_layer = Embedding(vocabulary_size,embedding_dim,weights = [embedding_matrix],input_length=300,trainable = False)\n",
        "  inputs = Input(shape=(300,), dtype='int32')\n",
        "  embedding = embedding_layer(inputs)\n",
        "  reshape = Reshape((300,embedding_dim,1))(embedding)\n",
        "  conv = Conv2D(num_filters, kernel_size=(filter_sizes[0], embedding_dim), padding='valid', kernel_initializer='normal', activation='relu')(reshape)\n",
        "  # conv_1 = Conv2D(num_filters, kernel_size=(filter_sizes[1], embedding_dim), padding='valid', kernel_initializer='normal', activation='relu')(reshape)\n",
        "  # conv_2 = Conv2D(num_filters, kernel_size=(filter_sizes[2], embedding_dim), padding='valid', kernel_initializer='normal', activation='relu')(reshape)\n",
        "\n",
        "  maxpool = MaxPool2D(pool_size=(300 - filter_sizes[0] + 1, 1), strides=(1,1), padding='valid')(conv)\n",
        "  # maxpool_1 = MaxPool2D(pool_size=(300 - filter_sizes[1] + 1, 1), strides=(1,1), padding='valid')(conv_1)\n",
        "  # maxpool_2 = MaxPool2D(pool_size=(300 - filter_sizes[2] + 1, 1), strides=(1,1), padding='valid')(conv_2)\n",
        "\n",
        "  # concatenated_tensor = Concatenate(axis=1)([maxpool_0, maxpool_1, maxpool_2])\n",
        "  flatten = Flatten()(maxpool)\n",
        "  dropout = Dropout(drop)(flatten)\n",
        "  output = Dense(units=3, activation='softmax')(dropout)\n",
        "  model = Model(inputs=inputs, outputs=output)\n",
        "  model.compile(optimizer='adam', loss='categorical_crossentropy', metrics=[metric])\n",
        "  return model"
      ],
      "metadata": {
        "id": "KToLolYRzKqk"
      },
      "execution_count": 10,
      "outputs": []
    },
    {
      "cell_type": "markdown",
      "source": [
        "## LSTM"
      ],
      "metadata": {
        "id": "umMA-5Jiy-Y1"
      }
    },
    {
      "cell_type": "code",
      "source": [
        "from keras.layers import *\n",
        "from keras.models import *\n",
        "from keras import backend as K\n",
        "\n",
        "# class from https://www.analyticsvidhya.com/blog/2019/11/comprehensive-guide-attention-mechanism-deep-learning/\n",
        "class attention(Layer):\n",
        "    \n",
        "    def __init__(self, return_sequences=True):\n",
        "        self.return_sequences = return_sequences\n",
        "        super(attention,self).__init__()\n",
        "        \n",
        "    def build(self, input_shape):\n",
        "        \n",
        "        self.W=self.add_weight(name=\"att_weight\", shape=(input_shape[-1],1),\n",
        "                               initializer=\"normal\")\n",
        "        self.b=self.add_weight(name=\"att_bias\", shape=(input_shape[1],1),\n",
        "                               initializer=\"zeros\")\n",
        "        \n",
        "        super(attention,self).build(input_shape)\n",
        "        \n",
        "    def call(self, x):\n",
        "        e = K.tanh(K.dot(x,self.W)+self.b)\n",
        "        a = K.softmax(e, axis=1)\n",
        "        output = x*a\n",
        "        \n",
        "        if self.return_sequences:\n",
        "            return output\n",
        "        \n",
        "        return K.sum(output, axis=1)\n",
        "\n",
        "def lstm(embedding_dim=300, size_vector=300, metric='accuracy'):\n",
        "  \"\"\"inputs = Input(shape=(size_vector,1), dtype='float32')\n",
        "  embedding = Embedding(vocabulary_size,embedding_dim,weights = [embedding_matrix],input_length=300,trainable = False)(inputs)\n",
        "  reshape = Reshape((300,embedding_dim,1))(embedding)\n",
        "  lstm = Bidirectional(LSTM(units=64, return_sequences=True))(reshape)\n",
        "  flatten = Flatten()(lstm)\n",
        "  dropout = Dropout(0.3)(flatten)\n",
        "  output = Dense(units=3, activation='softmax')(dropout)\n",
        "  model = Model(inputs=inputs, outputs=output)\n",
        "  model.compile(optimizer='adam', loss='categorical_crossentropy', metrics=[metric])\"\"\"\n",
        "  model = Sequential()\n",
        "  model.add(Embedding(vocabulary_size,embedding_dim,weights = [embedding_matrix],input_length=300,trainable = False))\n",
        "  model.add(Bidirectional(LSTM(64)))\n",
        "  model.add(Dropout(0.3))\n",
        "  model.add(Dense(3, activation='softmax'))\n",
        "  model.compile(loss='categorical_crossentropy', optimizer='adam', metrics=['categorical_accuracy'])\n",
        "  return model\n",
        "\n",
        "def lstm_attention(embedding_dim=300, size_vector=300, metric='accuracy'):\n",
        "  model = Sequential()\n",
        "  model.add(Embedding(vocabulary_size,embedding_dim,weights = [embedding_matrix],input_length=300,trainable = False))\n",
        "  model.add(Bidirectional(LSTM(units=64, return_sequences=True)))\n",
        "  model.add(attention()) \n",
        "  model.add(Dropout(0.3))\n",
        "  model.add(Flatten())\n",
        "  model.add(Dense(3, activation='softmax'))\n",
        "  model.compile(loss='categorical_crossentropy', optimizer='adam', metrics=['categorical_accuracy']) \n",
        "  return model"
      ],
      "metadata": {
        "id": "UqeYtOMwzY_h"
      },
      "execution_count": 22,
      "outputs": []
    },
    {
      "cell_type": "markdown",
      "source": [
        "# Experiments"
      ],
      "metadata": {
        "id": "i7V668100NZp"
      }
    },
    {
      "cell_type": "code",
      "source": [
        "path_glove = \"/content/drive/MyDrive/GloVe/glove.6B.%sd.txt\"\n",
        "data = pd.read_csv(\"/content/drive/MyDrive/dataset_watson/train.csv\")\n",
        "embedding_dim = 300\n",
        "size_vector = 300\n",
        "x_train, x_test, y_train, y_test, modified_data = prepare_data(data, True)\n",
        "\n",
        "token, padding_train, padding_test, vocabulary_size = tokenize_x(x_train, x_test, modified_data, size_vector)\n",
        "\n",
        "embedding_matrix = get_embedding_matrix(token, path_glove, vocabulary_size, embedding_dim)"
      ],
      "metadata": {
        "id": "kpWTYGUv0US8",
        "colab": {
          "base_uri": "https://localhost:8080/"
        },
        "outputId": "1b3664f5-fba3-4f35-9ace-5d8b1dff6afd"
      },
      "execution_count": 6,
      "outputs": [
        {
          "output_type": "stream",
          "name": "stderr",
          "text": [
            "/usr/local/lib/python3.7/dist-packages/ipykernel_launcher.py:41: SettingWithCopyWarning: \n",
            "A value is trying to be set on a copy of a slice from a DataFrame.\n",
            "Try using .loc[row_indexer,col_indexer] = value instead\n",
            "\n",
            "See the caveats in the documentation: https://pandas.pydata.org/pandas-docs/stable/user_guide/indexing.html#returning-a-view-versus-a-copy\n",
            "/usr/local/lib/python3.7/dist-packages/ipykernel_launcher.py:42: SettingWithCopyWarning: \n",
            "A value is trying to be set on a copy of a slice from a DataFrame.\n",
            "Try using .loc[row_indexer,col_indexer] = value instead\n",
            "\n",
            "See the caveats in the documentation: https://pandas.pydata.org/pandas-docs/stable/user_guide/indexing.html#returning-a-view-versus-a-copy\n",
            "/usr/local/lib/python3.7/dist-packages/ipykernel_launcher.py:16: SettingWithCopyWarning: \n",
            "A value is trying to be set on a copy of a slice from a DataFrame.\n",
            "Try using .loc[row_indexer,col_indexer] = value instead\n",
            "\n",
            "See the caveats in the documentation: https://pandas.pydata.org/pandas-docs/stable/user_guide/indexing.html#returning-a-view-versus-a-copy\n",
            "  app.launch_new_instance()\n",
            "/usr/local/lib/python3.7/dist-packages/ipykernel_launcher.py:18: SettingWithCopyWarning: \n",
            "A value is trying to be set on a copy of a slice from a DataFrame.\n",
            "Try using .loc[row_indexer,col_indexer] = value instead\n",
            "\n",
            "See the caveats in the documentation: https://pandas.pydata.org/pandas-docs/stable/user_guide/indexing.html#returning-a-view-versus-a-copy\n",
            "/usr/local/lib/python3.7/dist-packages/ipykernel_launcher.py:19: SettingWithCopyWarning: \n",
            "A value is trying to be set on a copy of a slice from a DataFrame.\n",
            "Try using .loc[row_indexer,col_indexer] = value instead\n",
            "\n",
            "See the caveats in the documentation: https://pandas.pydata.org/pandas-docs/stable/user_guide/indexing.html#returning-a-view-versus-a-copy\n",
            "/usr/local/lib/python3.7/dist-packages/ipykernel_launcher.py:20: SettingWithCopyWarning: \n",
            "A value is trying to be set on a copy of a slice from a DataFrame.\n",
            "Try using .loc[row_indexer,col_indexer] = value instead\n",
            "\n",
            "See the caveats in the documentation: https://pandas.pydata.org/pandas-docs/stable/user_guide/indexing.html#returning-a-view-versus-a-copy\n",
            "400000it [01:07, 5891.63it/s]\n",
            "100%|██████████| 11216/11216 [00:00<00:00, 239329.44it/s]\n"
          ]
        }
      ]
    },
    {
      "cell_type": "code",
      "source": [
        "def train_plot(x_train, y_train, model, model_name, metric=\"accuracy\", batch_size = 64, epochs = 200):\n",
        "    history = model.fit(x_train, y_train, validation_split=0.15, batch_size=batch_size, epochs=epochs, verbose=True)\n",
        "    # list all data in history\n",
        "    print(history.history.keys())\n",
        "\n",
        "    # summarize history for accuracy\n",
        "    plt.plot(history.history[metric.lower()], c=\"blue\", label=\"train\")\n",
        "    plt.plot(history.history['val_'+metric.lower()], c=\"orange\", label=\"test\")\n",
        "    plt.title('model '+metric)\n",
        "    plt.ylabel(metric)\n",
        "    plt.xlabel('epoch')\n",
        "    plt.legend(loc='upper left')\n",
        "    filename = model_name + '_metric_GloVe.jpg'\n",
        "    plt.savefig(filename, bbox_inches='tight', dpi=150)\n",
        "    plt.show()\n",
        "    \n",
        "\n",
        "    # summarize history for loss\n",
        "    plt.plot(history.history['loss'], c=\"blue\", label=\"train\")\n",
        "    plt.plot(history.history['val_loss'], c=\"orange\", label=\"test\")\n",
        "    plt.title('model loss')\n",
        "    plt.ylabel('loss')\n",
        "    plt.xlabel('epoch')\n",
        "    plt.legend(['train', 'test'], loc='upper left')\n",
        "    filename = model_name + '_loss_GloVe.jpg'\n",
        "    plt.savefig(filename, bbox_inches='tight', dpi=150)\n",
        "    plt.show()\n",
        "\n",
        "    return model, history"
      ],
      "metadata": {
        "id": "Cr9QZ5Nr0ejF"
      },
      "execution_count": 7,
      "outputs": []
    },
    {
      "cell_type": "code",
      "source": [
        "CNN_1D_acc = cnn_1(vocabulary_size, embedding_matrix, metric='accuracy')\n",
        "model_cnn1_acc,history_cnn1_acc = train_plot(x_train=padding_train,\n",
        "                           y_train=y_train,\n",
        "                           model=CNN_1D_acc,\n",
        "                           model_name='CNN_1D_acc',\n",
        "                           metric='accuracy',\n",
        "                           batch_size=64,\n",
        "                           epochs=50)\n",
        "\n",
        "CNN_1D_auc = cnn_1(vocabulary_size, embedding_matrix, metric='AUC')\n",
        "model_cnn1_auc,history_cnn1_auc = train_plot(x_train=padding_train,\n",
        "                           y_train=y_train,\n",
        "                           model=CNN_1D_auc,\n",
        "                           model_name='CNN_1D_auc',\n",
        "                           metric='AUC',\n",
        "                           batch_size=64,\n",
        "                           epochs=50)"
      ],
      "metadata": {
        "id": "k64Rgk1E16GF",
        "colab": {
          "base_uri": "https://localhost:8080/",
          "height": 1000
        },
        "outputId": "b453862e-2b5e-47f7-a7e3-58930481307a"
      },
      "execution_count": 8,
      "outputs": [
        {
          "output_type": "stream",
          "name": "stdout",
          "text": [
            "Epoch 1/50\n",
            "64/64 [==============================] - 11s 156ms/step - loss: 1.7444 - accuracy: 0.3129 - val_loss: 1.1226 - val_accuracy: 0.2936\n",
            "Epoch 2/50\n",
            "64/64 [==============================] - 10s 159ms/step - loss: 1.1553 - accuracy: 0.3249 - val_loss: 1.1149 - val_accuracy: 0.3518\n",
            "Epoch 3/50\n",
            "64/64 [==============================] - 11s 168ms/step - loss: 1.1367 - accuracy: 0.3607 - val_loss: 1.1105 - val_accuracy: 0.3421\n",
            "Epoch 4/50\n",
            "64/64 [==============================] - 11s 171ms/step - loss: 1.1396 - accuracy: 0.3587 - val_loss: 1.1078 - val_accuracy: 0.3573\n",
            "Epoch 5/50\n",
            "64/64 [==============================] - 12s 187ms/step - loss: 1.1217 - accuracy: 0.3585 - val_loss: 1.1065 - val_accuracy: 0.3532\n",
            "Epoch 6/50\n",
            "64/64 [==============================] - 10s 158ms/step - loss: 1.1140 - accuracy: 0.3616 - val_loss: 1.1050 - val_accuracy: 0.3546\n",
            "Epoch 7/50\n",
            "64/64 [==============================] - 11s 169ms/step - loss: 1.1169 - accuracy: 0.3609 - val_loss: 1.1035 - val_accuracy: 0.3615\n",
            "Epoch 8/50\n",
            "64/64 [==============================] - 11s 177ms/step - loss: 1.0997 - accuracy: 0.3631 - val_loss: 1.1030 - val_accuracy: 0.3629\n",
            "Epoch 9/50\n",
            "64/64 [==============================] - 11s 165ms/step - loss: 1.1041 - accuracy: 0.3626 - val_loss: 1.1026 - val_accuracy: 0.3629\n",
            "Epoch 10/50\n",
            "64/64 [==============================] - 12s 187ms/step - loss: 1.1024 - accuracy: 0.3631 - val_loss: 1.1027 - val_accuracy: 0.3601\n",
            "Epoch 11/50\n",
            "64/64 [==============================] - 10s 163ms/step - loss: 1.0968 - accuracy: 0.3638 - val_loss: 1.1026 - val_accuracy: 0.3643\n",
            "Epoch 12/50\n",
            "64/64 [==============================] - 11s 175ms/step - loss: 1.1010 - accuracy: 0.3643 - val_loss: 1.1026 - val_accuracy: 0.3643\n",
            "Epoch 13/50\n",
            "64/64 [==============================] - 11s 164ms/step - loss: 1.1015 - accuracy: 0.3609 - val_loss: 1.1024 - val_accuracy: 0.3643\n",
            "Epoch 14/50\n",
            "64/64 [==============================] - 10s 153ms/step - loss: 1.0943 - accuracy: 0.3660 - val_loss: 1.1030 - val_accuracy: 0.3643\n",
            "Epoch 15/50\n",
            "64/64 [==============================] - 10s 153ms/step - loss: 1.0981 - accuracy: 0.3636 - val_loss: 1.1024 - val_accuracy: 0.3629\n",
            "Epoch 16/50\n",
            "64/64 [==============================] - 10s 164ms/step - loss: 1.0939 - accuracy: 0.3660 - val_loss: 1.1024 - val_accuracy: 0.3615\n",
            "Epoch 17/50\n",
            "64/64 [==============================] - 11s 178ms/step - loss: 1.0930 - accuracy: 0.3616 - val_loss: 1.1027 - val_accuracy: 0.3601\n",
            "Epoch 18/50\n",
            "64/64 [==============================] - 10s 157ms/step - loss: 1.0942 - accuracy: 0.3648 - val_loss: 1.1032 - val_accuracy: 0.3615\n",
            "Epoch 19/50\n",
            "64/64 [==============================] - 11s 180ms/step - loss: 1.0931 - accuracy: 0.3660 - val_loss: 1.1036 - val_accuracy: 0.3560\n",
            "Epoch 20/50\n",
            "64/64 [==============================] - 11s 170ms/step - loss: 1.0981 - accuracy: 0.3616 - val_loss: 1.1054 - val_accuracy: 0.3573\n",
            "Epoch 21/50\n",
            "64/64 [==============================] - 11s 177ms/step - loss: 1.0954 - accuracy: 0.3660 - val_loss: 1.1043 - val_accuracy: 0.3587\n",
            "Epoch 22/50\n",
            "64/64 [==============================] - 11s 165ms/step - loss: 1.0958 - accuracy: 0.3633 - val_loss: 1.1049 - val_accuracy: 0.3587\n",
            "Epoch 23/50\n",
            "64/64 [==============================] - 10s 158ms/step - loss: 1.0904 - accuracy: 0.3668 - val_loss: 1.1051 - val_accuracy: 0.3601\n",
            "Epoch 24/50\n",
            "64/64 [==============================] - 11s 172ms/step - loss: 1.0915 - accuracy: 0.3646 - val_loss: 1.1046 - val_accuracy: 0.3615\n",
            "Epoch 25/50\n",
            "64/64 [==============================] - 11s 173ms/step - loss: 1.0909 - accuracy: 0.3660 - val_loss: 1.1053 - val_accuracy: 0.3546\n",
            "Epoch 26/50\n",
            "64/64 [==============================] - 11s 167ms/step - loss: 1.0909 - accuracy: 0.3682 - val_loss: 1.1051 - val_accuracy: 0.3601\n",
            "Epoch 27/50\n",
            "64/64 [==============================] - 11s 172ms/step - loss: 1.0889 - accuracy: 0.3675 - val_loss: 1.1047 - val_accuracy: 0.3546\n",
            "Epoch 28/50\n",
            "64/64 [==============================] - 13s 201ms/step - loss: 1.0922 - accuracy: 0.3651 - val_loss: 1.1041 - val_accuracy: 0.3573\n",
            "Epoch 29/50\n",
            "64/64 [==============================] - 11s 168ms/step - loss: 1.0936 - accuracy: 0.3646 - val_loss: 1.1048 - val_accuracy: 0.3601\n",
            "Epoch 30/50\n",
            "64/64 [==============================] - 13s 201ms/step - loss: 1.0941 - accuracy: 0.3704 - val_loss: 1.1061 - val_accuracy: 0.3573\n",
            "Epoch 31/50\n",
            "64/64 [==============================] - 11s 179ms/step - loss: 1.0883 - accuracy: 0.3651 - val_loss: 1.1059 - val_accuracy: 0.3601\n",
            "Epoch 32/50\n",
            "64/64 [==============================] - 12s 187ms/step - loss: 1.0900 - accuracy: 0.3678 - val_loss: 1.1071 - val_accuracy: 0.3476\n",
            "Epoch 33/50\n",
            "64/64 [==============================] - 11s 165ms/step - loss: 1.0878 - accuracy: 0.3680 - val_loss: 1.1067 - val_accuracy: 0.3518\n",
            "Epoch 34/50\n",
            "64/64 [==============================] - 10s 156ms/step - loss: 1.0927 - accuracy: 0.3619 - val_loss: 1.1052 - val_accuracy: 0.3629\n",
            "Epoch 35/50\n",
            "64/64 [==============================] - 12s 192ms/step - loss: 1.0890 - accuracy: 0.3658 - val_loss: 1.1052 - val_accuracy: 0.3629\n",
            "Epoch 36/50\n",
            "64/64 [==============================] - 12s 190ms/step - loss: 1.0900 - accuracy: 0.3680 - val_loss: 1.1061 - val_accuracy: 0.3560\n",
            "Epoch 37/50\n",
            "64/64 [==============================] - 15s 238ms/step - loss: 1.0907 - accuracy: 0.3653 - val_loss: 1.1053 - val_accuracy: 0.3629\n",
            "Epoch 38/50\n",
            "64/64 [==============================] - 20s 311ms/step - loss: 1.0901 - accuracy: 0.3690 - val_loss: 1.1059 - val_accuracy: 0.3629\n",
            "Epoch 39/50\n",
            "64/64 [==============================] - 11s 178ms/step - loss: 1.0888 - accuracy: 0.3665 - val_loss: 1.1077 - val_accuracy: 0.3573\n",
            "Epoch 40/50\n",
            "64/64 [==============================] - 11s 173ms/step - loss: 1.0892 - accuracy: 0.3687 - val_loss: 1.1078 - val_accuracy: 0.3546\n",
            "Epoch 41/50\n",
            "64/64 [==============================] - 12s 189ms/step - loss: 1.0937 - accuracy: 0.3660 - val_loss: 1.1080 - val_accuracy: 0.3504\n",
            "Epoch 42/50\n",
            "64/64 [==============================] - 10s 152ms/step - loss: 1.0925 - accuracy: 0.3641 - val_loss: 1.1073 - val_accuracy: 0.3518\n",
            "Epoch 43/50\n",
            "64/64 [==============================] - 10s 156ms/step - loss: 1.0895 - accuracy: 0.3692 - val_loss: 1.1064 - val_accuracy: 0.3560\n",
            "Epoch 44/50\n",
            "64/64 [==============================] - 10s 161ms/step - loss: 1.0929 - accuracy: 0.3685 - val_loss: 1.1067 - val_accuracy: 0.3587\n",
            "Epoch 45/50\n",
            "64/64 [==============================] - 12s 189ms/step - loss: 1.0883 - accuracy: 0.3692 - val_loss: 1.1073 - val_accuracy: 0.3615\n",
            "Epoch 46/50\n",
            "64/64 [==============================] - 11s 166ms/step - loss: 1.0891 - accuracy: 0.3643 - val_loss: 1.1065 - val_accuracy: 0.3587\n",
            "Epoch 47/50\n",
            "64/64 [==============================] - 12s 181ms/step - loss: 1.0891 - accuracy: 0.3678 - val_loss: 1.1078 - val_accuracy: 0.3601\n",
            "Epoch 48/50\n",
            "64/64 [==============================] - 13s 207ms/step - loss: 1.0863 - accuracy: 0.3648 - val_loss: 1.1081 - val_accuracy: 0.3601\n",
            "Epoch 49/50\n",
            "64/64 [==============================] - 14s 206ms/step - loss: 1.0839 - accuracy: 0.3668 - val_loss: 1.1100 - val_accuracy: 0.3587\n",
            "Epoch 50/50\n",
            "64/64 [==============================] - 12s 180ms/step - loss: 1.0879 - accuracy: 0.3648 - val_loss: 1.1100 - val_accuracy: 0.3573\n",
            "dict_keys(['loss', 'accuracy', 'val_loss', 'val_accuracy'])\n"
          ]
        },
        {
          "output_type": "display_data",
          "data": {
            "image/png": "[encoded data removed]",
            "text/plain": [
              "<Figure size 432x288 with 1 Axes>"
            ]
          },
          "metadata": {
            "needs_background": "light"
          }
        },
        {
          "output_type": "display_data",
          "data": {
            "image/png": "[encoded data removed]",
            "text/plain": [
              "<Figure size 432x288 with 1 Axes>"
            ]
          },
          "metadata": {
            "needs_background": "light"
          }
        },
        {
          "output_type": "stream",
          "name": "stdout",
          "text": [
            "Epoch 1/50\n",
            "64/64 [==============================] - 14s 210ms/step - loss: 1.4700 - auc: 0.5067 - val_loss: 1.1115 - val_auc: 0.4949\n",
            "Epoch 2/50\n",
            "64/64 [==============================] - 11s 175ms/step - loss: 1.1527 - auc: 0.4946 - val_loss: 1.1069 - val_auc: 0.4923\n",
            "Epoch 3/50\n",
            "64/64 [==============================] - 10s 162ms/step - loss: 1.1345 - auc: 0.4928 - val_loss: 1.1045 - val_auc: 0.5070\n",
            "Epoch 4/50\n",
            "64/64 [==============================] - 10s 150ms/step - loss: 1.1207 - auc: 0.5155 - val_loss: 1.1027 - val_auc: 0.5148\n",
            "Epoch 5/50\n",
            "64/64 [==============================] - 12s 182ms/step - loss: 1.1120 - auc: 0.5218 - val_loss: 1.1021 - val_auc: 0.5157\n",
            "Epoch 6/50\n",
            "64/64 [==============================] - 10s 164ms/step - loss: 1.1213 - auc: 0.5280 - val_loss: 1.1019 - val_auc: 0.5176\n",
            "Epoch 7/50\n",
            "64/64 [==============================] - 11s 172ms/step - loss: 1.1085 - auc: 0.5274 - val_loss: 1.1028 - val_auc: 0.5152\n",
            "Epoch 8/50\n",
            "64/64 [==============================] - 11s 174ms/step - loss: 1.1006 - auc: 0.5311 - val_loss: 1.1040 - val_auc: 0.5145\n",
            "Epoch 9/50\n",
            "64/64 [==============================] - 11s 168ms/step - loss: 1.1022 - auc: 0.5315 - val_loss: 1.1029 - val_auc: 0.5147\n",
            "Epoch 10/50\n",
            "64/64 [==============================] - 10s 159ms/step - loss: 1.1022 - auc: 0.5265 - val_loss: 1.1030 - val_auc: 0.5120\n",
            "Epoch 11/50\n",
            "64/64 [==============================] - 10s 159ms/step - loss: 1.0997 - auc: 0.5270 - val_loss: 1.1025 - val_auc: 0.5107\n",
            "Epoch 12/50\n",
            "64/64 [==============================] - 11s 167ms/step - loss: 1.0981 - auc: 0.5308 - val_loss: 1.1030 - val_auc: 0.5101\n",
            "Epoch 13/50\n",
            "64/64 [==============================] - 10s 162ms/step - loss: 1.0979 - auc: 0.5285 - val_loss: 1.1025 - val_auc: 0.5135\n",
            "Epoch 14/50\n",
            "64/64 [==============================] - 10s 156ms/step - loss: 1.0971 - auc: 0.5319 - val_loss: 1.1022 - val_auc: 0.5135\n",
            "Epoch 15/50\n",
            "64/64 [==============================] - 11s 176ms/step - loss: 1.1018 - auc: 0.5319 - val_loss: 1.1020 - val_auc: 0.5152\n",
            "Epoch 16/50\n",
            "64/64 [==============================] - 10s 158ms/step - loss: 1.0985 - auc: 0.5302 - val_loss: 1.1028 - val_auc: 0.5132\n",
            "Epoch 17/50\n",
            "64/64 [==============================] - 12s 190ms/step - loss: 1.0924 - auc: 0.5325 - val_loss: 1.1022 - val_auc: 0.5156\n",
            "Epoch 18/50\n",
            "64/64 [==============================] - 11s 175ms/step - loss: 1.0978 - auc: 0.5296 - val_loss: 1.1018 - val_auc: 0.5167\n",
            "Epoch 19/50\n",
            "64/64 [==============================] - 10s 156ms/step - loss: 1.0938 - auc: 0.5340 - val_loss: 1.1023 - val_auc: 0.5153\n",
            "Epoch 20/50\n",
            "64/64 [==============================] - 10s 163ms/step - loss: 1.0982 - auc: 0.5341 - val_loss: 1.1033 - val_auc: 0.5101\n",
            "Epoch 21/50\n",
            "64/64 [==============================] - 9s 147ms/step - loss: 1.0924 - auc: 0.5346 - val_loss: 1.1039 - val_auc: 0.5086\n",
            "Epoch 22/50\n",
            "64/64 [==============================] - 10s 155ms/step - loss: 1.0937 - auc: 0.5311 - val_loss: 1.1032 - val_auc: 0.5125\n",
            "Epoch 23/50\n",
            "64/64 [==============================] - 9s 148ms/step - loss: 1.0896 - auc: 0.5335 - val_loss: 1.1039 - val_auc: 0.5090\n",
            "Epoch 24/50\n",
            "64/64 [==============================] - 10s 149ms/step - loss: 1.0881 - auc: 0.5346 - val_loss: 1.1041 - val_auc: 0.5089\n",
            "Epoch 25/50\n",
            "64/64 [==============================] - 10s 153ms/step - loss: 1.0912 - auc: 0.5351 - val_loss: 1.1048 - val_auc: 0.5098\n",
            "Epoch 26/50\n",
            "64/64 [==============================] - 10s 153ms/step - loss: 1.0932 - auc: 0.5311 - val_loss: 1.1034 - val_auc: 0.5122\n",
            "Epoch 27/50\n",
            "64/64 [==============================] - 10s 156ms/step - loss: 1.0906 - auc: 0.5351 - val_loss: 1.1031 - val_auc: 0.5133\n",
            "Epoch 28/50\n",
            "64/64 [==============================] - 10s 153ms/step - loss: 1.0925 - auc: 0.5319 - val_loss: 1.1031 - val_auc: 0.5137\n",
            "Epoch 29/50\n",
            "64/64 [==============================] - 11s 179ms/step - loss: 1.0899 - auc: 0.5359 - val_loss: 1.1047 - val_auc: 0.5116\n",
            "Epoch 30/50\n",
            "64/64 [==============================] - 10s 154ms/step - loss: 1.0883 - auc: 0.5348 - val_loss: 1.1049 - val_auc: 0.5143\n",
            "Epoch 31/50\n",
            "64/64 [==============================] - 10s 158ms/step - loss: 1.0916 - auc: 0.5341 - val_loss: 1.1045 - val_auc: 0.5118\n",
            "Epoch 32/50\n",
            "64/64 [==============================] - 10s 163ms/step - loss: 1.0906 - auc: 0.5346 - val_loss: 1.1055 - val_auc: 0.5142\n",
            "Epoch 33/50\n",
            "64/64 [==============================] - 10s 160ms/step - loss: 1.0898 - auc: 0.5327 - val_loss: 1.1052 - val_auc: 0.5143\n",
            "Epoch 34/50\n",
            "64/64 [==============================] - 10s 155ms/step - loss: 1.0863 - auc: 0.5363 - val_loss: 1.1065 - val_auc: 0.5133\n",
            "Epoch 35/50\n",
            "64/64 [==============================] - 10s 150ms/step - loss: 1.0902 - auc: 0.5342 - val_loss: 1.1069 - val_auc: 0.5128\n",
            "Epoch 36/50\n",
            "64/64 [==============================] - 9s 148ms/step - loss: 1.0902 - auc: 0.5332 - val_loss: 1.1072 - val_auc: 0.5077\n",
            "Epoch 37/50\n",
            "64/64 [==============================] - 9s 147ms/step - loss: 1.0902 - auc: 0.5351 - val_loss: 1.1071 - val_auc: 0.5089\n",
            "Epoch 38/50\n",
            "64/64 [==============================] - 10s 163ms/step - loss: 1.0891 - auc: 0.5339 - val_loss: 1.1061 - val_auc: 0.5088\n",
            "Epoch 39/50\n",
            "64/64 [==============================] - 10s 151ms/step - loss: 1.0923 - auc: 0.5363 - val_loss: 1.1069 - val_auc: 0.5112\n",
            "Epoch 40/50\n",
            "64/64 [==============================] - 10s 152ms/step - loss: 1.0863 - auc: 0.5421 - val_loss: 1.1077 - val_auc: 0.5141\n",
            "Epoch 41/50\n",
            "64/64 [==============================] - 10s 149ms/step - loss: 1.0883 - auc: 0.5345 - val_loss: 1.1078 - val_auc: 0.5103\n",
            "Epoch 42/50\n",
            "64/64 [==============================] - 9s 148ms/step - loss: 1.0890 - auc: 0.5328 - val_loss: 1.1073 - val_auc: 0.5090\n",
            "Epoch 43/50\n",
            "64/64 [==============================] - 10s 153ms/step - loss: 1.0911 - auc: 0.5339 - val_loss: 1.1070 - val_auc: 0.5092\n",
            "Epoch 44/50\n",
            "64/64 [==============================] - 10s 151ms/step - loss: 1.0874 - auc: 0.5383 - val_loss: 1.1073 - val_auc: 0.5093\n",
            "Epoch 45/50\n",
            "64/64 [==============================] - 10s 157ms/step - loss: 1.0861 - auc: 0.5392 - val_loss: 1.1084 - val_auc: 0.5026\n",
            "Epoch 46/50\n",
            "64/64 [==============================] - 10s 162ms/step - loss: 1.0867 - auc: 0.5361 - val_loss: 1.1085 - val_auc: 0.5019\n",
            "Epoch 47/50\n",
            "64/64 [==============================] - 9s 148ms/step - loss: 1.0865 - auc: 0.5412 - val_loss: 1.1080 - val_auc: 0.5073\n",
            "Epoch 48/50\n",
            "64/64 [==============================] - 10s 157ms/step - loss: 1.0910 - auc: 0.5297 - val_loss: 1.1063 - val_auc: 0.5104\n",
            "Epoch 49/50\n",
            "64/64 [==============================] - 9s 146ms/step - loss: 1.0858 - auc: 0.5361 - val_loss: 1.1074 - val_auc: 0.5067\n",
            "Epoch 50/50\n",
            "64/64 [==============================] - 9s 147ms/step - loss: 1.0860 - auc: 0.5388 - val_loss: 1.1091 - val_auc: 0.5043\n",
            "dict_keys(['loss', 'auc', 'val_loss', 'val_auc'])\n"
          ]
        },
        {
          "output_type": "display_data",
          "data": {
            "image/png": "[encoded data removed]",
            "text/plain": [
              "<Figure size 432x288 with 1 Axes>"
            ]
          },
          "metadata": {
            "needs_background": "light"
          }
        },
        {
          "output_type": "display_data",
          "data": {
            "image/png": "[encoded data removed]",
            "text/plain": [
              "<Figure size 432x288 with 1 Axes>"
            ]
          },
          "metadata": {
            "needs_background": "light"
          }
        }
      ]
    },
    {
      "cell_type": "code",
      "source": [
        "CNN_2D_acc = cnn_2(vocabulary_size, embedding_matrix, metric='accuracy')\n",
        "model_cnn2_acc,history_cnn2_acc = train_plot(x_train=padding_train,\n",
        "                           y_train=y_train,\n",
        "                           model=CNN_2D_acc,\n",
        "                           model_name='CNN_2D_acc',\n",
        "                           metric='accuracy',\n",
        "                           batch_size=64,\n",
        "                           epochs=50)\n",
        "\n",
        "CNN_2D_auc = cnn_2(vocabulary_size, embedding_matrix,metric='AUC')\n",
        "model_cnn2_auc,history_cnn2_auc = train_plot(x_train=padding_train,\n",
        "                           y_train=y_train,\n",
        "                           model=CNN_2D_auc,\n",
        "                           model_name='CNN_2D_auc',\n",
        "                           metric='AUC',\n",
        "                           batch_size=64,\n",
        "                           epochs=50)"
      ],
      "metadata": {
        "id": "jL8ihk8X26FB",
        "colab": {
          "base_uri": "https://localhost:8080/",
          "height": 1000
        },
        "outputId": "06ea7a70-cef4-42f8-df50-796b98213fe3"
      },
      "execution_count": 13,
      "outputs": [
        {
          "metadata": {
            "tags": null
          },
          "name": "stdout",
          "output_type": "stream",
          "text": [
            "Epoch 1/50\n",
            "64/64 [==============================] - 26s 370ms/step - loss: 1.5598 - accuracy: 0.3225 - val_loss: 1.1137 - val_accuracy: 0.3310\n",
            "Epoch 2/50\n",
            "64/64 [==============================] - 18s 281ms/step - loss: 1.1920 - accuracy: 0.3450 - val_loss: 1.1074 - val_accuracy: 0.3435\n",
            "Epoch 3/50\n",
            "64/64 [==============================] - 11s 172ms/step - loss: 1.1491 - accuracy: 0.3607 - val_loss: 1.1055 - val_accuracy: 0.3380\n",
            "Epoch 4/50\n",
            "64/64 [==============================] - 10s 154ms/step - loss: 1.1272 - accuracy: 0.3575 - val_loss: 1.1039 - val_accuracy: 0.3518\n",
            "Epoch 5/50\n",
            "64/64 [==============================] - 10s 159ms/step - loss: 1.1206 - accuracy: 0.3665 - val_loss: 1.1027 - val_accuracy: 0.3463\n",
            "Epoch 6/50\n",
            "64/64 [==============================] - 10s 156ms/step - loss: 1.1212 - accuracy: 0.3651 - val_loss: 1.1018 - val_accuracy: 0.3449\n",
            "Epoch 7/50\n",
            "64/64 [==============================] - 10s 155ms/step - loss: 1.1101 - accuracy: 0.3682 - val_loss: 1.1011 - val_accuracy: 0.3463\n",
            "Epoch 8/50\n",
            "64/64 [==============================] - 10s 152ms/step - loss: 1.1153 - accuracy: 0.3607 - val_loss: 1.1014 - val_accuracy: 0.3476\n",
            "Epoch 9/50\n",
            "64/64 [==============================] - 10s 159ms/step - loss: 1.1049 - accuracy: 0.3648 - val_loss: 1.1016 - val_accuracy: 0.3380\n",
            "Epoch 10/50\n",
            "64/64 [==============================] - 10s 162ms/step - loss: 1.1080 - accuracy: 0.3633 - val_loss: 1.1020 - val_accuracy: 0.3435\n",
            "Epoch 11/50\n",
            "64/64 [==============================] - 10s 158ms/step - loss: 1.0969 - accuracy: 0.3629 - val_loss: 1.1011 - val_accuracy: 0.3532\n",
            "Epoch 12/50\n",
            "64/64 [==============================] - 11s 170ms/step - loss: 1.0915 - accuracy: 0.3697 - val_loss: 1.1007 - val_accuracy: 0.3573\n",
            "Epoch 13/50\n",
            "64/64 [==============================] - 10s 160ms/step - loss: 1.0991 - accuracy: 0.3697 - val_loss: 1.1010 - val_accuracy: 0.3532\n",
            "Epoch 14/50\n",
            "64/64 [==============================] - 10s 157ms/step - loss: 1.1057 - accuracy: 0.3653 - val_loss: 1.0999 - val_accuracy: 0.3560\n",
            "Epoch 15/50\n",
            "64/64 [==============================] - 10s 161ms/step - loss: 1.0931 - accuracy: 0.3695 - val_loss: 1.1002 - val_accuracy: 0.3546\n",
            "Epoch 16/50\n",
            "64/64 [==============================] - 10s 156ms/step - loss: 1.0905 - accuracy: 0.3709 - val_loss: 1.1006 - val_accuracy: 0.3532\n",
            "Epoch 17/50\n",
            "64/64 [==============================] - 10s 161ms/step - loss: 1.0963 - accuracy: 0.3641 - val_loss: 1.0999 - val_accuracy: 0.3546\n",
            "Epoch 18/50\n",
            "64/64 [==============================] - 10s 162ms/step - loss: 1.0929 - accuracy: 0.3682 - val_loss: 1.0999 - val_accuracy: 0.3573\n",
            "Epoch 19/50\n",
            "64/64 [==============================] - 10s 160ms/step - loss: 1.0881 - accuracy: 0.3702 - val_loss: 1.1006 - val_accuracy: 0.3560\n",
            "Epoch 20/50\n",
            "64/64 [==============================] - 10s 154ms/step - loss: 1.0940 - accuracy: 0.3714 - val_loss: 1.1010 - val_accuracy: 0.3573\n",
            "Epoch 21/50\n",
            "64/64 [==============================] - 10s 163ms/step - loss: 1.0959 - accuracy: 0.3678 - val_loss: 1.1009 - val_accuracy: 0.3518\n",
            "Epoch 22/50\n",
            "64/64 [==============================] - 10s 157ms/step - loss: 1.0927 - accuracy: 0.3685 - val_loss: 1.1010 - val_accuracy: 0.3615\n",
            "Epoch 23/50\n",
            "64/64 [==============================] - 10s 161ms/step - loss: 1.0954 - accuracy: 0.3663 - val_loss: 1.1016 - val_accuracy: 0.3629\n",
            "Epoch 24/50\n",
            "64/64 [==============================] - 10s 159ms/step - loss: 1.0905 - accuracy: 0.3726 - val_loss: 1.1012 - val_accuracy: 0.3532\n",
            "Epoch 25/50\n",
            "64/64 [==============================] - 10s 159ms/step - loss: 1.0916 - accuracy: 0.3719 - val_loss: 1.1014 - val_accuracy: 0.3463\n",
            "Epoch 26/50\n",
            "64/64 [==============================] - 11s 172ms/step - loss: 1.0901 - accuracy: 0.3707 - val_loss: 1.1021 - val_accuracy: 0.3435\n",
            "Epoch 27/50\n",
            "64/64 [==============================] - 10s 162ms/step - loss: 1.0895 - accuracy: 0.3729 - val_loss: 1.1023 - val_accuracy: 0.3546\n",
            "Epoch 28/50\n",
            "64/64 [==============================] - 10s 160ms/step - loss: 1.0905 - accuracy: 0.3753 - val_loss: 1.1024 - val_accuracy: 0.3490\n",
            "Epoch 29/50\n",
            "64/64 [==============================] - 10s 155ms/step - loss: 1.0874 - accuracy: 0.3731 - val_loss: 1.1034 - val_accuracy: 0.3546\n",
            "Epoch 30/50\n",
            "64/64 [==============================] - 11s 165ms/step - loss: 1.0909 - accuracy: 0.3729 - val_loss: 1.1030 - val_accuracy: 0.3518\n",
            "Epoch 31/50\n",
            "64/64 [==============================] - 11s 165ms/step - loss: 1.0868 - accuracy: 0.3726 - val_loss: 1.1036 - val_accuracy: 0.3490\n",
            "Epoch 32/50\n",
            "64/64 [==============================] - 10s 162ms/step - loss: 1.0856 - accuracy: 0.3758 - val_loss: 1.1038 - val_accuracy: 0.3449\n",
            "Epoch 33/50\n",
            "64/64 [==============================] - 10s 159ms/step - loss: 1.0865 - accuracy: 0.3714 - val_loss: 1.1038 - val_accuracy: 0.3449\n",
            "Epoch 34/50\n",
            "64/64 [==============================] - 11s 165ms/step - loss: 1.0911 - accuracy: 0.3687 - val_loss: 1.1048 - val_accuracy: 0.3518\n",
            "Epoch 35/50\n",
            "64/64 [==============================] - 10s 158ms/step - loss: 1.0877 - accuracy: 0.3675 - val_loss: 1.1046 - val_accuracy: 0.3476\n",
            "Epoch 36/50\n",
            "64/64 [==============================] - 10s 163ms/step - loss: 1.0875 - accuracy: 0.3702 - val_loss: 1.1048 - val_accuracy: 0.3490\n",
            "Epoch 37/50\n",
            "64/64 [==============================] - 10s 160ms/step - loss: 1.0866 - accuracy: 0.3731 - val_loss: 1.1047 - val_accuracy: 0.3504\n",
            "Epoch 38/50\n",
            "64/64 [==============================] - 10s 160ms/step - loss: 1.0867 - accuracy: 0.3746 - val_loss: 1.1047 - val_accuracy: 0.3476\n",
            "Epoch 39/50\n",
            "64/64 [==============================] - 11s 167ms/step - loss: 1.0879 - accuracy: 0.3736 - val_loss: 1.1046 - val_accuracy: 0.3504\n",
            "Epoch 40/50\n",
            "64/64 [==============================] - 10s 158ms/step - loss: 1.0911 - accuracy: 0.3712 - val_loss: 1.1060 - val_accuracy: 0.3421\n",
            "Epoch 41/50\n",
            "64/64 [==============================] - 10s 150ms/step - loss: 1.0872 - accuracy: 0.3741 - val_loss: 1.1063 - val_accuracy: 0.3380\n",
            "Epoch 42/50\n",
            "64/64 [==============================] - 10s 151ms/step - loss: 1.0863 - accuracy: 0.3753 - val_loss: 1.1058 - val_accuracy: 0.3393\n",
            "Epoch 43/50\n",
            "64/64 [==============================] - 10s 150ms/step - loss: 1.0835 - accuracy: 0.3690 - val_loss: 1.1064 - val_accuracy: 0.3255\n",
            "Epoch 44/50\n",
            "64/64 [==============================] - 10s 161ms/step - loss: 1.0890 - accuracy: 0.3748 - val_loss: 1.1053 - val_accuracy: 0.3366\n",
            "Epoch 45/50\n",
            "64/64 [==============================] - 10s 151ms/step - loss: 1.0900 - accuracy: 0.3682 - val_loss: 1.1051 - val_accuracy: 0.3476\n",
            "Epoch 46/50\n",
            "64/64 [==============================] - 11s 171ms/step - loss: 1.0835 - accuracy: 0.3729 - val_loss: 1.1053 - val_accuracy: 0.3352\n",
            "Epoch 47/50\n",
            "64/64 [==============================] - 11s 171ms/step - loss: 1.0835 - accuracy: 0.3790 - val_loss: 1.1066 - val_accuracy: 0.3324\n",
            "Epoch 48/50\n",
            "64/64 [==============================] - 15s 237ms/step - loss: 1.0835 - accuracy: 0.3741 - val_loss: 1.1067 - val_accuracy: 0.3338\n",
            "Epoch 49/50\n",
            "64/64 [==============================] - 11s 169ms/step - loss: 1.0853 - accuracy: 0.3734 - val_loss: 1.1068 - val_accuracy: 0.3366\n",
            "Epoch 50/50\n",
            "64/64 [==============================] - 10s 163ms/step - loss: 1.0846 - accuracy: 0.3744 - val_loss: 1.1059 - val_accuracy: 0.3366\n",
            "dict_keys(['loss', 'accuracy', 'val_loss', 'val_accuracy'])\n"
          ]
        },
        {
          "data": {
            "image/png": "[encoded data removed]",
            "text/plain": [
              "<Figure size 432x288 with 1 Axes>"
            ]
          },
          "metadata": {},
          "output_type": "display_data"
        },
        {
          "data": {
            "image/png": "[encoded data removed]",
            "text/plain": [
              "<Figure size 432x288 with 1 Axes>"
            ]
          },
          "metadata": {},
          "output_type": "display_data"
        },
        {
          "output_type": "stream",
          "name": "stdout",
          "text": [
            "Epoch 1/50\n",
            "64/64 [==============================] - 11s 160ms/step - loss: 1.5793 - auc: 0.4942 - val_loss: 1.1270 - val_auc: 0.4796\n",
            "Epoch 2/50\n",
            "64/64 [==============================] - 10s 151ms/step - loss: 1.1984 - auc: 0.5180 - val_loss: 1.1172 - val_auc: 0.4923\n",
            "Epoch 3/50\n",
            "64/64 [==============================] - 10s 158ms/step - loss: 1.1537 - auc: 0.5214 - val_loss: 1.1098 - val_auc: 0.5014\n",
            "Epoch 4/50\n",
            "64/64 [==============================] - 10s 156ms/step - loss: 1.1281 - auc: 0.5230 - val_loss: 1.1052 - val_auc: 0.5086\n",
            "Epoch 5/50\n",
            "64/64 [==============================] - 10s 153ms/step - loss: 1.1200 - auc: 0.5201 - val_loss: 1.1054 - val_auc: 0.4990\n",
            "Epoch 6/50\n",
            "64/64 [==============================] - 10s 164ms/step - loss: 1.1202 - auc: 0.5252 - val_loss: 1.1028 - val_auc: 0.5118\n",
            "Epoch 7/50\n",
            "64/64 [==============================] - 10s 154ms/step - loss: 1.1126 - auc: 0.5339 - val_loss: 1.1021 - val_auc: 0.5151\n",
            "Epoch 8/50\n",
            "64/64 [==============================] - 11s 165ms/step - loss: 1.1136 - auc: 0.5323 - val_loss: 1.1022 - val_auc: 0.5154\n",
            "Epoch 9/50\n",
            "64/64 [==============================] - 10s 158ms/step - loss: 1.1085 - auc: 0.5321 - val_loss: 1.1019 - val_auc: 0.5230\n",
            "Epoch 10/50\n",
            "64/64 [==============================] - 10s 158ms/step - loss: 1.1002 - auc: 0.5345 - val_loss: 1.1026 - val_auc: 0.5211\n",
            "Epoch 11/50\n",
            "64/64 [==============================] - 10s 156ms/step - loss: 1.0994 - auc: 0.5431 - val_loss: 1.1038 - val_auc: 0.5123\n",
            "Epoch 12/50\n",
            "64/64 [==============================] - 11s 173ms/step - loss: 1.1049 - auc: 0.5305 - val_loss: 1.1041 - val_auc: 0.5167\n",
            "Epoch 13/50\n",
            "64/64 [==============================] - 10s 163ms/step - loss: 1.1043 - auc: 0.5358 - val_loss: 1.1044 - val_auc: 0.5133\n",
            "Epoch 14/50\n",
            "64/64 [==============================] - 10s 151ms/step - loss: 1.0946 - auc: 0.5407 - val_loss: 1.1037 - val_auc: 0.5153\n",
            "Epoch 15/50\n",
            "64/64 [==============================] - 10s 159ms/step - loss: 1.1001 - auc: 0.5342 - val_loss: 1.1043 - val_auc: 0.5128\n",
            "Epoch 16/50\n",
            "64/64 [==============================] - 10s 152ms/step - loss: 1.0910 - auc: 0.5417 - val_loss: 1.1044 - val_auc: 0.5156\n",
            "Epoch 17/50\n",
            "64/64 [==============================] - 10s 156ms/step - loss: 1.0934 - auc: 0.5400 - val_loss: 1.1041 - val_auc: 0.5175\n",
            "Epoch 18/50\n",
            "64/64 [==============================] - 10s 154ms/step - loss: 1.0910 - auc: 0.5442 - val_loss: 1.1049 - val_auc: 0.5167\n",
            "Epoch 19/50\n",
            "64/64 [==============================] - 10s 159ms/step - loss: 1.0925 - auc: 0.5411 - val_loss: 1.1033 - val_auc: 0.5209\n",
            "Epoch 20/50\n",
            "64/64 [==============================] - 10s 153ms/step - loss: 1.0898 - auc: 0.5401 - val_loss: 1.1035 - val_auc: 0.5193\n",
            "Epoch 21/50\n",
            "64/64 [==============================] - 10s 153ms/step - loss: 1.0929 - auc: 0.5372 - val_loss: 1.1049 - val_auc: 0.5155\n",
            "Epoch 22/50\n",
            "64/64 [==============================] - 11s 165ms/step - loss: 1.0901 - auc: 0.5383 - val_loss: 1.1040 - val_auc: 0.5190\n",
            "Epoch 23/50\n",
            "64/64 [==============================] - 10s 151ms/step - loss: 1.0834 - auc: 0.5523 - val_loss: 1.1029 - val_auc: 0.5253\n",
            "Epoch 24/50\n",
            "64/64 [==============================] - 10s 150ms/step - loss: 1.0881 - auc: 0.5473 - val_loss: 1.1040 - val_auc: 0.5214\n",
            "Epoch 25/50\n",
            "64/64 [==============================] - 10s 155ms/step - loss: 1.0902 - auc: 0.5382 - val_loss: 1.1022 - val_auc: 0.5261\n",
            "Epoch 26/50\n",
            "64/64 [==============================] - 10s 155ms/step - loss: 1.0887 - auc: 0.5441 - val_loss: 1.1017 - val_auc: 0.5270\n",
            "Epoch 27/50\n",
            "64/64 [==============================] - 10s 157ms/step - loss: 1.0885 - auc: 0.5471 - val_loss: 1.1033 - val_auc: 0.5228\n",
            "Epoch 28/50\n",
            "64/64 [==============================] - 10s 157ms/step - loss: 1.0870 - auc: 0.5474 - val_loss: 1.1033 - val_auc: 0.5248\n",
            "Epoch 29/50\n",
            "64/64 [==============================] - 10s 153ms/step - loss: 1.0865 - auc: 0.5472 - val_loss: 1.1022 - val_auc: 0.5251\n",
            "Epoch 30/50\n",
            "64/64 [==============================] - 10s 150ms/step - loss: 1.0913 - auc: 0.5412 - val_loss: 1.1019 - val_auc: 0.5245\n",
            "Epoch 31/50\n",
            "64/64 [==============================] - 10s 151ms/step - loss: 1.0849 - auc: 0.5494 - val_loss: 1.1029 - val_auc: 0.5183\n",
            "Epoch 32/50\n",
            "64/64 [==============================] - 10s 155ms/step - loss: 1.0897 - auc: 0.5454 - val_loss: 1.1011 - val_auc: 0.5257\n",
            "Epoch 33/50\n",
            "64/64 [==============================] - 10s 154ms/step - loss: 1.0854 - auc: 0.5468 - val_loss: 1.1023 - val_auc: 0.5219\n",
            "Epoch 34/50\n",
            "64/64 [==============================] - 10s 150ms/step - loss: 1.0849 - auc: 0.5455 - val_loss: 1.1039 - val_auc: 0.5177\n",
            "Epoch 35/50\n",
            "64/64 [==============================] - 10s 150ms/step - loss: 1.0839 - auc: 0.5487 - val_loss: 1.1048 - val_auc: 0.5178\n",
            "Epoch 36/50\n",
            "64/64 [==============================] - 10s 150ms/step - loss: 1.0878 - auc: 0.5492 - val_loss: 1.1047 - val_auc: 0.5212\n",
            "Epoch 37/50\n",
            "64/64 [==============================] - 10s 150ms/step - loss: 1.0941 - auc: 0.5469 - val_loss: 1.1057 - val_auc: 0.5147\n",
            "Epoch 38/50\n",
            "64/64 [==============================] - 10s 157ms/step - loss: 1.0910 - auc: 0.5426 - val_loss: 1.1048 - val_auc: 0.5178\n",
            "Epoch 39/50\n",
            "64/64 [==============================] - 10s 156ms/step - loss: 1.0831 - auc: 0.5536 - val_loss: 1.1052 - val_auc: 0.5186\n",
            "Epoch 40/50\n",
            "64/64 [==============================] - 10s 162ms/step - loss: 1.0841 - auc: 0.5477 - val_loss: 1.1068 - val_auc: 0.5142\n",
            "Epoch 41/50\n",
            "64/64 [==============================] - 10s 152ms/step - loss: 1.0860 - auc: 0.5469 - val_loss: 1.1057 - val_auc: 0.5185\n",
            "Epoch 42/50\n",
            "64/64 [==============================] - 10s 151ms/step - loss: 1.0832 - auc: 0.5503 - val_loss: 1.1061 - val_auc: 0.5160\n",
            "Epoch 43/50\n",
            "64/64 [==============================] - 10s 150ms/step - loss: 1.0858 - auc: 0.5472 - val_loss: 1.1065 - val_auc: 0.5197\n",
            "Epoch 44/50\n",
            "64/64 [==============================] - 10s 152ms/step - loss: 1.0804 - auc: 0.5535 - val_loss: 1.1051 - val_auc: 0.5216\n",
            "Epoch 45/50\n",
            "64/64 [==============================] - 10s 150ms/step - loss: 1.0831 - auc: 0.5470 - val_loss: 1.1081 - val_auc: 0.5128\n",
            "Epoch 46/50\n",
            "64/64 [==============================] - 10s 153ms/step - loss: 1.0827 - auc: 0.5543 - val_loss: 1.1050 - val_auc: 0.5241\n",
            "Epoch 47/50\n",
            "64/64 [==============================] - 10s 153ms/step - loss: 1.0868 - auc: 0.5459 - val_loss: 1.1044 - val_auc: 0.5288\n",
            "Epoch 48/50\n",
            "64/64 [==============================] - 10s 150ms/step - loss: 1.0806 - auc: 0.5522 - val_loss: 1.1066 - val_auc: 0.5231\n",
            "Epoch 49/50\n",
            "64/64 [==============================] - 10s 150ms/step - loss: 1.0804 - auc: 0.5556 - val_loss: 1.1058 - val_auc: 0.5261\n",
            "Epoch 50/50\n",
            "64/64 [==============================] - 10s 162ms/step - loss: 1.0826 - auc: 0.5474 - val_loss: 1.1059 - val_auc: 0.5251\n",
            "dict_keys(['loss', 'auc', 'val_loss', 'val_auc'])\n"
          ]
        },
        {
          "output_type": "display_data",
          "data": {
            "image/png": "[encoded data removed]",
            "text/plain": [
              "<Figure size 432x288 with 1 Axes>"
            ]
          },
          "metadata": {
            "needs_background": "light"
          }
        },
        {
          "output_type": "display_data",
          "data": {
            "image/png": "[encoded data removed]",
            "text/plain": [
              "<Figure size 432x288 with 1 Axes>"
            ]
          },
          "metadata": {
            "needs_background": "light"
          }
        }
      ]
    },
    {
      "cell_type": "code",
      "source": [
        "lstm_acc = lstm(metric='accuracy')\n",
        "model_cnn2_acc,history_cnn2_acc = train_plot(x_train=padding_train,\n",
        "                           y_train=y_train,\n",
        "                           model=lstm_acc,\n",
        "                           model_name='lstm_acc',\n",
        "                           metric='accuracy',\n",
        "                           batch_size=64,\n",
        "                           epochs=50)\n",
        "\n",
        "lstm_auc = lstm(metric='AUC')\n",
        "model_cnn2_auc,history_cnn2_auc = train_plot(x_train=padding_train,\n",
        "                           y_train=y_train,\n",
        "                           model=lstm_auc,\n",
        "                           model_name='lstm_auc',\n",
        "                           metric='AUC',\n",
        "                           batch_size=64,\n",
        "                           epochs=50)"
      ],
      "metadata": {
        "id": "vX9ydKpY3vf5",
        "colab": {
          "base_uri": "https://localhost:8080/"
        },
        "outputId": "fa5ecdc3-3b67-467f-b0bb-290bdd61a619"
      },
      "execution_count": null,
      "outputs": [
        {
          "output_type": "stream",
          "name": "stdout",
          "text": [
            "Epoch 1/50\n",
            "17/64 [======>.......................] - ETA: 34s - loss: 1.1113 - categorical_accuracy: 0.3355"
          ]
        }
      ]
    },
    {
      "cell_type": "code",
      "source": [
        "lstm_att_acc = lstm('accuracy')\n",
        "model_cnn2_acc,history_cnn2_acc = train_plot(x_train=padding_train,\n",
        "                           y_train=y_train,\n",
        "                           model=lstm_att_acc,\n",
        "                           model_name='lstm_att_acc',\n",
        "                           metric='accuracy',\n",
        "                           batch_size=64,\n",
        "                           epochs=50)\n",
        "\n",
        "lstm_att_auc = lstm('AUC')\n",
        "model_cnn2_auc,history_cnn2_auc = train_plot(x_train=padding_train,\n",
        "                           y_train=y_train,\n",
        "                           model=lstm_att_auc,\n",
        "                           model_name='lstm_att_auc',\n",
        "                           metric='AUC',\n",
        "                           batch_size=64,\n",
        "                           epochs=50)"
      ],
      "metadata": {
        "id": "dJYRKbUM5V8R"
      },
      "execution_count": null,
      "outputs": []
    }
  ]
}